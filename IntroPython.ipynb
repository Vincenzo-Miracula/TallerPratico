{
  "cells": [
    {
      "cell_type": "markdown",
      "metadata": {
        "id": "view-in-github",
        "colab_type": "text"
      },
      "source": [
        "<a href=\"https://colab.research.google.com/github/Vincenzo-Miracula/TallerPratico/blob/main/IntroPython.ipynb\" target=\"_parent\"><img src=\"https://colab.research.google.com/assets/colab-badge.svg\" alt=\"Open In Colab\"/></a>"
      ]
    },
    {
      "cell_type": "markdown",
      "source": [
        "<a id='intro'></a>\n",
        "## Introducción a Python y Conceptos Básicos\n",
        "Python es uno de los lenguajes de programación más utilizados en el mundo, gracias a su simplicidad y versatilidad se aprovecha para muchos propósitos diferentes como el desarrollo de aplicaciones de escritorio, web y redes, pero da lo mejor de sí mismo en el cálculo científico y en el **machine learning**.\n",
        "<br><br>\n",
        "Python es un **lenguaje interpretado**, lo que significa que, a diferencia de un lenguaje compilado, el código no se compila directamente en un archivo ejecutable (como los archivos .exe en Windows), sino que es interpretado por otro software, llamado *intérprete*, que luego lo ejecuta. Esto significa que el mismo código Python puede ejecutarse en cualquier sistema operativo donde esté disponible el intérprete, como Windows, Unix/Linux, Macintosh y sistemas móviles como Android e iOS.\n",
        "<br><br>"
      ],
      "metadata": {
        "id": "N8kXiUwtrJH4"
      }
    },
    {
      "cell_type": "markdown",
      "metadata": {
        "id": "2F9KErpJd1lN"
      },
      "source": [
        "<a id='io'></a>\n",
        "## Input e Output\n",
        "Las funciones fundamentales de cualquier lenguaje de programación son aquellas que nos permiten recibir información como entrada y mostrarla como salida.\n",
        "Con Python, podemos imprimir datos en la pantalla utilizando la función print."
      ]
    },
    {
      "cell_type": "code",
      "source": [
        "print(\"Hola Mundo\")"
      ],
      "metadata": {
        "id": "Dd-kzTzjr7jx"
      },
      "execution_count": null,
      "outputs": []
    },
    {
      "cell_type": "markdown",
      "metadata": {
        "id": "dN_DpIrqeeH5"
      },
      "source": [
        "En este caso, el dato que hemos impreso es una cadena de texto, la cual está encerrada entre comillas dobles.\n",
        "Para adquirir datos, en cambio, podemos utilizar la función input."
      ]
    },
    {
      "cell_type": "code",
      "source": [
        "name = input(\"Como te llamas? \")\n",
        "print(\"Me llamo\",name)"
      ],
      "metadata": {
        "id": "KF0CMxbur9E-"
      },
      "execution_count": null,
      "outputs": []
    },
    {
      "cell_type": "markdown",
      "metadata": {
        "id": "HCDLBMB7qaIW"
      },
      "source": [
        "En este caso, hemos almacenado la entrada ingresada por el teclado dentro de una **variable**, la cual luego hemos impreso en la pantalla."
      ]
    },
    {
      "cell_type": "markdown",
      "metadata": {
        "id": "DRKQ3TQgqlqb"
      },
      "source": [
        "<a id='var'></a>\n",
        "## Las variables\n",
        "Una variable sirve para almacenar datos, podemos asignar un dato a una variable utilizando el operador de asignación (=)."
      ]
    },
    {
      "cell_type": "code",
      "metadata": {
        "id": "7Vr-DdaUe1gJ"
      },
      "source": [
        "print(5)"
      ],
      "execution_count": null,
      "outputs": []
    },
    {
      "cell_type": "code",
      "metadata": {
        "id": "CQa72zX5qro2"
      },
      "source": [
        "num = 5\n",
        "print(num)\n",
        "\n",
        "word = \"ciao\"\n",
        "print(word)"
      ],
      "execution_count": null,
      "outputs": []
    },
    {
      "cell_type": "markdown",
      "metadata": {
        "id": "RErsahtzqwHx"
      },
      "source": [
        "El nombre de la variable lo definimos nosotros mismos. Es una buena práctica utilizar un nombre que represente el contenido de la variable, de manera que facilite la lectura del código."
      ]
    },
    {
      "cell_type": "code",
      "metadata": {
        "id": "DIN4foM8qsUH"
      },
      "source": [
        "cat = input(\"Ingresa un nombre para tu nuevo gato: \")\n",
        "print(cat + \" es tu nuevo dueño\")"
      ],
      "execution_count": null,
      "outputs": []
    },
    {
      "cell_type": "markdown",
      "metadata": {
        "id": "dIqoBPy4kNSU"
      },
      "source": [
        "<a id='types'></a>\n",
        "## Tipos de datos\n",
        "Python es un lenguaje **no tipado**, lo que significa que el tipo de dato que una variable puede contener no necesita ser declarado explícitamente. Para conocer el tipo de dato que contiene una variable, podemos usar la función type."
      ]
    },
    {
      "cell_type": "code",
      "metadata": {
        "id": "sXh6P8aZgnDe"
      },
      "source": [
        "var = \"ciao\"\n",
        "type(var)"
      ],
      "execution_count": null,
      "outputs": []
    },
    {
      "cell_type": "markdown",
      "metadata": {
        "id": "C4JNDK2gmOpV"
      },
      "source": [
        "Los principales tipos de datos que Python pone a disposición son los siguientes:\n",
        "- **Enteros**: números enteros (por ejemplo: 5, 10, 123)\n",
        "- **Float**: números de punto flotante (por ejemplo: 4.34, 5.31, 0.17)\n",
        "- **Cadenas**: texto (por ejemplo: \"hola\", \"abc\", \"¿cerveza?\")\n",
        "- **Booleanos**: solo pueden tener dos valores, verdadero/falso (True/False)"
      ]
    },
    {
      "cell_type": "code",
      "metadata": {
        "id": "qf2cRHTwn1CF"
      },
      "source": [
        "# Entero\n",
        "var = 5\n",
        "\n",
        "# Float\n",
        "var = 4.15\n",
        "\n",
        "# Str\n",
        "var = \"cerveza?\"\n",
        "\n",
        "# Boolean\n",
        "var = True\n",
        "\n",
        "type(var)"
      ],
      "execution_count": null,
      "outputs": []
    },
    {
      "cell_type": "markdown",
      "metadata": {
        "id": "e4ZM-NUmsi-m"
      },
      "source": [
        "#### EJ. 1: Conversión de entero a cadena"
      ]
    },
    {
      "cell_type": "code",
      "metadata": {
        "id": "89C2GrzUskOQ"
      },
      "source": [
        "var = 5\n",
        "var = str(var)\n",
        "\n",
        "print(var)\n",
        "print(type(var))"
      ],
      "execution_count": null,
      "outputs": []
    },
    {
      "cell_type": "markdown",
      "metadata": {
        "id": "OqPioblpsmwS"
      },
      "source": [
        "#### EJ. 2: Conversión de entero a flotante"
      ]
    },
    {
      "cell_type": "code",
      "metadata": {
        "id": "cnVUW1zFsqlO"
      },
      "source": [
        "var = 1\n",
        "var = float(var)\n",
        "\n",
        "print(var)\n",
        "print(type(var))"
      ],
      "execution_count": null,
      "outputs": []
    },
    {
      "cell_type": "markdown",
      "metadata": {
        "id": "Ek3bksikstLh"
      },
      "source": [
        "#### EJ. 3: Conversión de str a entero"
      ]
    },
    {
      "cell_type": "code",
      "metadata": {
        "id": "0DrkUuP3svty"
      },
      "source": [
        "var = \"10\"\n",
        "var = int(var)\n",
        "\n",
        "print(var)\n",
        "print(type(var))"
      ],
      "execution_count": null,
      "outputs": []
    },
    {
      "cell_type": "markdown",
      "metadata": {
        "id": "WS8sDnoorT8x"
      },
      "source": [
        "## Operaciones aritméticas"
      ]
    },
    {
      "cell_type": "code",
      "metadata": {
        "id": "KGIGfXx6fB-X"
      },
      "source": [
        "# Suma\n",
        "print(5 + 3)\n",
        "# Resta\n",
        "print(4 - 1)\n",
        "# Producto\n",
        "print(3 * 2)\n",
        "# División\n",
        "print(4 / 2)\n",
        "# Resto\n",
        "print(5 % 2)\n",
        "# Concatenar dos cadenas\n",
        "print(\"5\" + \"2\")"
      ],
      "execution_count": null,
      "outputs": []
    },
    {
      "cell_type": "markdown",
      "metadata": {
        "id": "bMW03EGEc_2r"
      },
      "source": [
        "Come has visto en el último print, el uso del operador de suma (+) en dos cadenas tiene el efecto de unirlas.\n",
        "\n",
        "El texto después del símbolo # es un **comentario**, su propósito es permitirnos insertar anotaciones en el código, que luego serán ignoradas por el intérprete y, por lo tanto, no serán utilizadas de ninguna manera por el programa.\n",
        "\n",
        "Es posible imprimir múltiples datos, incluso de tipos diferentes, simplemente separándolos con una coma. Si son solo cadenas, también podemos usar el operador de suma (+)."
      ]
    },
    {
      "cell_type": "code",
      "metadata": {
        "id": "GLDXUc4OoS0T"
      },
      "source": [
        "print(\"5 + 3 = \"+\"8\")\n",
        "print(\"5 + 3 =\",8)\n",
        "print(\"5 + 3 =\",5+3)"
      ],
      "execution_count": null,
      "outputs": []
    },
    {
      "cell_type": "markdown",
      "metadata": {
        "id": "Nr-zPSGkrgUZ"
      },
      "source": [
        "<a id='list'></a>\n",
        "## Listas, Tuplas\n",
        "Cada lenguaje de programación nos brinda la posibilidad de crear secuencias de datos. Python lo hace con tres tipos de datos: listas, tuplas y conjuntos.\n",
        "\n",
        "Podemos crear una lista de datos simplemente encerrándolos entre corchetes y separándolos por comas."
      ]
    },
    {
      "cell_type": "markdown",
      "source": [],
      "metadata": {
        "id": "VkyvfPHI8BQ1"
      }
    },
    {
      "cell_type": "code",
      "metadata": {
        "id": "BvccptLFp7pz"
      },
      "source": [
        "weights = [85.2, 80.3, 76.5 ,72.7, 69.8, 68.0,]\n",
        "print(weights)\n",
        "print(type(weights))"
      ],
      "execution_count": null,
      "outputs": []
    },
    {
      "cell_type": "markdown",
      "metadata": {
        "id": "gkF9MiT_sT1f"
      },
      "source": [
        "En este caso, hemos creado una lista que contiene los primeros 7 valores de la sucesión de Fibonacci.\n",
        "\n",
        "Podemos conocer la longitud de una lista utilizando la función len."
      ]
    },
    {
      "cell_type": "code",
      "metadata": {
        "id": "G8f7BB03sN8D"
      },
      "source": [
        "len(weights)"
      ],
      "execution_count": null,
      "outputs": []
    },
    {
      "cell_type": "markdown",
      "metadata": {
        "id": "Wg7yQzjpoS0b"
      },
      "source": [
        "### Indexing"
      ]
    },
    {
      "cell_type": "markdown",
      "metadata": {
        "id": "EPYEIEPgsoqf"
      },
      "source": [
        "Para acceder a un elemento de la lista, debemos colocar su **índice** entre corchetes. Esta operación se llama *indexing*.\n",
        "\n",
        "**NOTA MUY IMPORTANTE:** En Python y en casi todos los lenguajes de programación, los índices comienzan desde 0."
      ]
    },
    {
      "cell_type": "code",
      "metadata": {
        "id": "5muXSlokshvy"
      },
      "source": [
        "# Imprimimos el primer elemento de la lista\n",
        "print(weights[0])\n",
        "\n",
        "# Imprimimos el segundo elemento de la lista\n",
        "print(weights[1])"
      ],
      "execution_count": null,
      "outputs": []
    },
    {
      "cell_type": "markdown",
      "metadata": {
        "id": "e7rGwjFOtP_8"
      },
      "source": [
        "El uso del signo menos (-) delante del índice nos permite acceder a la lista desde el último elemento hacia el primero. En este caso, el índice comienza desde 1 en lugar de cero, por lo que con -1 accederemos al último elemento de la lista."
      ]
    },
    {
      "cell_type": "code",
      "metadata": {
        "id": "0lhjx5XVtC35"
      },
      "source": [
        "# Imprimimos el último elemento de la lista\n",
        "print(weights[-1])\n",
        "\n",
        "# Imprimimos el tercer elemento desde el final de la lista\n",
        "print(weights[-3])"
      ],
      "execution_count": null,
      "outputs": []
    },
    {
      "cell_type": "markdown",
      "metadata": {
        "id": "8mJu2XWroS0c"
      },
      "source": [
        "### Slicing\n",
        "Podemos extraer solo una parte de la lista insertando los índices de inicio (inclusive) y fin (exclusivo) separados por (:)"
      ]
    },
    {
      "cell_type": "code",
      "metadata": {
        "id": "fKFsjPUpoS0c"
      },
      "source": [
        "# Primeros 3 elementos de la lista\n",
        "print(weights[:3])\n",
        "\n",
        "# Cuarto y quinto elemento\n",
        "print(weights[3:5])\n",
        "\n",
        "# Últimos dos elementos\n",
        "print(weights[-2:])\n",
        "\n",
        "# Hasta los dos últimos elementos\n",
        "print(weights[:-2])"
      ],
      "execution_count": null,
      "outputs": []
    },
    {
      "cell_type": "markdown",
      "metadata": {
        "id": "leiM6LphoS0d"
      },
      "source": [
        "### Verificación\n",
        "Podemos verificar si un elemento está contenido en la lista con la declaración *in*. Esto devuelve True si el elemento está contenido en la lista, de lo contrario devuelve False (*in* es muy útil cuando se utiliza para crear instrucciones condicionales, de las cuales hablaremos más adelante)."
      ]
    },
    {
      "cell_type": "code",
      "metadata": {
        "id": "xFPaJpFgoS0d"
      },
      "source": [
        "print(72.7 in weights)"
      ],
      "execution_count": null,
      "outputs": []
    },
    {
      "cell_type": "code",
      "metadata": {
        "id": "IA7qaBoHzQv3"
      },
      "source": [
        "people = [\"Jose\", \"Francisco\", \"Alvaro\"]\n",
        "print(\"Juan\" in people)"
      ],
      "execution_count": null,
      "outputs": []
    },
    {
      "cell_type": "markdown",
      "metadata": {
        "id": "AnMstxZ0oS0d"
      },
      "source": [
        "### Modificación"
      ]
    },
    {
      "cell_type": "markdown",
      "metadata": {
        "id": "ITIPxUB7txTI"
      },
      "source": [
        "Podemos modificar el valor de un elemento de la lista simplemente accediendo a él y realizando una asignación."
      ]
    },
    {
      "cell_type": "code",
      "metadata": {
        "id": "n2OlFHX6tv8E"
      },
      "source": [
        "weights = [85.2, 80.3, 76.5 ,72.7, 69.8, 68.0]\n",
        "\n",
        "print(\"Antiguo peso inicial: %.1f\" % weights[0])\n",
        "\n",
        "# Reemplazamos el valor en la posición 0 con 84.2\n",
        "weights[0] = 84.2\n",
        "\n",
        "# Imprimimos el primer elemento de la lista\n",
        "print(\"Nuevo peso inicial: %.1f\" % weights[0])"
      ],
      "execution_count": null,
      "outputs": []
    },
    {
      "cell_type": "markdown",
      "metadata": {
        "id": "LA69JeRiutNa"
      },
      "source": [
        "Per modificar el contenido de una lista, podemos aprovechar los siguientes métodos:\n",
        "* **append(e)**: agrega un elemento e al final de la lista.\n",
        "* **insert(i,e)**: agrega el elemento e en el índice i de la lista.\n",
        "* **remove(e)**: elimina el elemento e de la lista.\n",
        "* **pop(i)**: elimina el elemento en el índice i."
      ]
    },
    {
      "cell_type": "code",
      "metadata": {
        "id": "FRm5vukJuU9q"
      },
      "source": [
        "# Creamos una lista que contiene solo dos elementos\n",
        "animals = [\"raton\", \"gato\"]\n",
        "print(animals)\n",
        "\n",
        "# Agregamos la palabra \"perro\" a la lista\n",
        "animals.append(\"perro\")\n",
        "print(\"Agregamos la palabra 'perro' a la lista:\", animals)\n",
        "\n",
        "# Eliminamos la palabra \"gato\" de la lista\n",
        "animals.remove(\"gato\")\n",
        "print(\"Eliminamos la palabra 'gato' de la lista:\", animals)\n",
        "\n",
        "# Agregamos un sinónimo de \"gato\" en la posición 1\n",
        "animals.insert(1,\"cat\")\n",
        "print(\"Agregamos un sinónimo de 'gato' en la posición 1:\", animals)\n",
        "\n",
        "# Eliminamos el elemento en la posición 1\n",
        "animals.pop(1)\n",
        "\n",
        "# Agregamos un sinónimo más realista de \"gato\" en la posición 1\n",
        "animals.insert(1, \"gatto\")\n",
        "print(animals)"
      ],
      "execution_count": null,
      "outputs": []
    },
    {
      "cell_type": "markdown",
      "metadata": {
        "id": "J0V5t-4mx_xA"
      },
      "source": [
        "Pasemos a las tuplas. Podemos crear una tupla insertando los elementos entre paréntesis y separándolos con una coma."
      ]
    },
    {
      "cell_type": "code",
      "metadata": {
        "id": "aQzIoiJBvuqo"
      },
      "source": [
        "animals_t = (\"raton\", \"gato\", \"perro\", \"hombre\")\n",
        "print(animals_t)\n",
        "print(type(animals_t))"
      ],
      "execution_count": null,
      "outputs": []
    },
    {
      "cell_type": "markdown",
      "metadata": {
        "id": "MX1e_j3_yXYu"
      },
      "source": [
        "Para acceder a los elementos se aplica la misma regla que en las listas, es decir, se utiliza *indexing* y *slicing*."
      ]
    },
    {
      "cell_type": "code",
      "metadata": {
        "id": "TsOVy6F56pU_"
      },
      "source": [
        "# Imprimimos el primer elemento de la tupla\n",
        "print(animals_t[0])\n",
        "\n",
        "# Imprimimos el último elemento de la tupla\n",
        "print(animals_t[-1])"
      ],
      "execution_count": null,
      "outputs": []
    },
    {
      "cell_type": "markdown",
      "metadata": {
        "id": "mjQ1Ftvqyx6S"
      },
      "source": [
        "La differenza tra una lista e una tupla es que una vez creada, una tupla no puede ser modificada."
      ]
    },
    {
      "cell_type": "code",
      "metadata": {
        "id": "RTb8O4l2yxGA"
      },
      "source": [
        "t[0] = 5"
      ],
      "execution_count": null,
      "outputs": []
    },
    {
      "cell_type": "markdown",
      "metadata": {
        "id": "RKDMwMHxy2xN"
      },
      "source": [
        "Sí, cuando intentas modificar un elemento de una tupla, se desencadena una excepción de tipo TypeError, lo que indica que los elementos de una tupla no pueden ser modificados. Si esto no es aceptable, siempre puedes convertir la tupla en una lista (y viceversa)."
      ]
    },
    {
      "cell_type": "code",
      "metadata": {
        "id": "D75mqwx9yWk2"
      },
      "source": [
        "animals = list(animals_t)\n",
        "print(animals)\n",
        "print(type(animals))"
      ],
      "execution_count": null,
      "outputs": []
    },
    {
      "cell_type": "markdown",
      "metadata": {
        "id": "edvRTyEEoS0f"
      },
      "source": [
        "### Otras funciones útiles para listas y tuplas"
      ]
    },
    {
      "cell_type": "code",
      "metadata": {
        "id": "U1FDGqS2oS0g"
      },
      "source": [
        "hello_list = [\"Ciao\",\"Hello\",\"Hola\",\"Salut\",\"Hallo\",\"Ciao\"]\n",
        "hello_tuple = (\"Ciao\",\"Hello\",\"Hola\",\"Salut\",\"Hallo\",\"Ciao\")\n",
        "\n",
        "# obtener el índice del elemento\n",
        "print(hello_list.index('Salut'))\n",
        "print(hello_tuple.index('Salut'))\n",
        "\n",
        "# contar cuántas veces está presente un elemento\n",
        "print(hello_list.count('Ciao'))\n",
        "print(hello_tuple.count('Ciao'))"
      ],
      "execution_count": null,
      "outputs": []
    },
    {
      "cell_type": "markdown",
      "metadata": {
        "id": "DDdnf2QkoS0g"
      },
      "source": [
        "I set son conjuntos de elementos únicos y desordenados. Esto significa que un set no puede contener el mismo elemento dos veces y que no tiene en cuenta el orden de los elementos en su interior.\n",
        "\n",
        "Podemos crear un set insertando los elementos entre llaves y separándolos con comas."
      ]
    },
    {
      "cell_type": "code",
      "metadata": {
        "id": "K7_5Y3TeoS0g"
      },
      "source": [
        "my_set = {1,2,2,3,4,5,5}\n",
        "print(my_set)\n",
        "print(type(my_set))"
      ],
      "execution_count": null,
      "outputs": []
    },
    {
      "cell_type": "markdown",
      "metadata": {
        "id": "mzuNre9QoS0g"
      },
      "source": [
        "Como puedes ver, los elementos duplicados han sido eliminados. Ahora veamos algunas funciones útiles para trabajar con sets."
      ]
    },
    {
      "cell_type": "code",
      "metadata": {
        "id": "gPW8-62WoS0g"
      },
      "source": [
        "# Creamos un set de nombres de personas\n",
        "names = {\"Jose\", \"Juan\", \"Antonio\", \"Alvaro\"}\n",
        "print(names)\n",
        "\n",
        "# Agregamos un elemento al set\n",
        "names.add(\"Esteban\")\n",
        "print(names)\n",
        "\n",
        "# Si el nombre ya está presente, no se agregará\n",
        "names.add(\"Juan\")\n",
        "print(names)\n",
        "\n",
        "# Removemos un nombre\n",
        "names.remove(\"Antonio\")\n",
        "print(names)\n",
        "\n",
        "# Si el nombre no está presente, obtendremos una excepción KeyError\n",
        "# en tal caso, podemos usar discard en su lugar\n",
        "names.discard(\"Jose\")\n",
        "print(names)\n",
        "\n",
        "# Extraemos un elemento del set\n",
        "name = names.pop()\n",
        "print(name)\n",
        "print(names)\n",
        "\n",
        "# Vaciamos el set\n",
        "names.clear()\n",
        "print(names)"
      ],
      "execution_count": null,
      "outputs": []
    },
    {
      "cell_type": "markdown",
      "metadata": {
        "id": "DMRAbIgpoS0h"
      },
      "source": [
        "Es posible convertir una lista en un set y viceversa utilizando el casting.\n",
        "\n",
        "**NOTA:** Al convertir una lista en un set, los elementos dentro de ella se reordenarán y se eliminarán los duplicados."
      ]
    },
    {
      "cell_type": "code",
      "metadata": {
        "id": "5KbXbiWYoS0h"
      },
      "source": [
        "my_list = [\"Jose\",\"Alvaro\",\"Juan\",\"Antonio\",\"Esteban\",\"Diego\"]\n",
        "print(my_list)\n",
        "print(type(my_list))\n",
        "\n",
        "my_set = set(my_list)\n",
        "print(my_set)\n",
        "print(type(my_set))\n",
        "\n",
        "my_list = list(my_set)\n",
        "print(my_list)\n",
        "print(type(my_list))"
      ],
      "execution_count": null,
      "outputs": []
    },
    {
      "cell_type": "markdown",
      "metadata": {
        "id": "vhgo2EnpzGAF"
      },
      "source": [
        "<a id='dict'></a>\n",
        "## Diccionarios\n",
        "Un diccionario es un tipo de datos en Python que nos permite almacenar datos en un formato de clave-valor, de modo que podamos usar la clave para acceder al valor correspondiente.\n",
        "Podemos crear un diccionario en Python encerrándolo entre llaves y separando las claves y los valores con (:)"
      ]
    },
    {
      "cell_type": "code",
      "metadata": {
        "id": "G4oig6SPy0tU"
      },
      "source": [
        "# Creamos un diccionario con una lista de compras\n",
        "# especificando qué comprar como clave y la cantidad como valor\n",
        "items = {\"leche\": 3, \"arroz\": 2, \"cerveza\": 5}\n",
        "type(items)"
      ],
      "execution_count": null,
      "outputs": []
    },
    {
      "cell_type": "markdown",
      "metadata": {
        "id": "0FKKz8Ku0IjY"
      },
      "source": [
        "Podemos acceder a un elemento del diccionario insertando la clave entre corchetes."
      ]
    },
    {
      "cell_type": "code",
      "metadata": {
        "id": "CUUxEO9P0EPn"
      },
      "source": [
        "items[\"cerveza\"]"
      ],
      "execution_count": null,
      "outputs": []
    },
    {
      "cell_type": "markdown",
      "metadata": {
        "id": "IhCSvCBkoS0i"
      },
      "source": [
        "Si la clave no existe, obtendremos una excepción de tipo KeyError."
      ]
    },
    {
      "cell_type": "code",
      "metadata": {
        "id": "JMH9AjBeoS0i"
      },
      "source": [
        "items[\"aceite\"]"
      ],
      "execution_count": null,
      "outputs": []
    },
    {
      "cell_type": "markdown",
      "metadata": {
        "id": "XvTgJl9y0TY6"
      },
      "source": [
        "Podemos agregar otro elemento al diccionario simplemente insertando la clave entre corchetes y realizando una asignación."
      ]
    },
    {
      "cell_type": "code",
      "metadata": {
        "id": "acIQ4ff50QIw"
      },
      "source": [
        "items[\"lasagna\"]=1\n",
        "print(items)"
      ],
      "execution_count": null,
      "outputs": []
    },
    {
      "cell_type": "markdown",
      "metadata": {
        "id": "-S_SU4dp0zYu"
      },
      "source": [
        "Es posible insertar otro diccionario dentro de un elemento del diccionario."
      ]
    },
    {
      "cell_type": "code",
      "metadata": {
        "id": "Z_hB1zu20q2D"
      },
      "source": [
        "items[\"fruta\"] = {\"manzana\":2, \"banana\":3}\n",
        "print(items)"
      ],
      "execution_count": null,
      "outputs": []
    },
    {
      "cell_type": "markdown",
      "metadata": {
        "id": "vebmXA89261x"
      },
      "source": [
        "<a id='loop'></a>\n",
        "## Loop\n",
        "\n",
        "Los bucles nos permiten ejecutar una serie de instrucciones de manera cíclica.\n",
        "\n",
        "Un ejemplo clásico de bucle es el **loop for**, utilizado en muchos lenguajes de programación, incluido Python.\n",
        "\n",
        "Vamos a usarlo para imprimir una serie de números."
      ]
    },
    {
      "cell_type": "code",
      "metadata": {
        "id": "few_O2NBzC1s"
      },
      "source": [
        "n = input(\"¿Hasta qué número desea imprimir?\")\n",
        "n = int(n)\n",
        "\n",
        "for i in range(0,n):\n",
        "    print(i)"
      ],
      "execution_count": null,
      "outputs": []
    },
    {
      "cell_type": "markdown",
      "metadata": {
        "id": "3pfs_91n4K2_"
      },
      "source": [
        "La función range devuelve una secuencia de números, en este caso que va de 0 a n, donde n es la variable definida por nosotros con la función input y en cada iteración del bucle la variable i se incrementará en uno y obtendrá el valor del i-ésimo número de la secuencia, hasta el valor n.\n",
        "Al pasar un único valor como entrada de la función range, esta iniciará la secuencia desde el valor predeterminado cero.\n",
        "\n",
        "**MUY IMPORTANTE:** Hemos dejado 4 espacios antes de la instrucción dentro del bucle for. Estos espacios son conocidos como **indentación** y permiten al intérprete de Python entender el contexto de las instrucciones (por ejemplo, en nuestro código, permiten comprender qué instrucciones deben ejecutarse dentro del bucle for). Diferentes lenguajes de programación, como C/C++, Java y JavaScript, utilizan llaves para identificar el contexto de las instrucciones, mientras que Python, en cambio, obliga a usar la indentación para mejorar la legibilidad del código (¡y lo hace muy bien!). Los 4 espacios para la indentación son un estándar propuesto en el [PEP 8](https://www.python.org/dev/peps/pep-0008/), aunque también es posible utilizar un número diferente de espacios (siempre que sea consistente en todo el código) o tabulaciones. Un bloque de código indentado siempre se introduce con (:) al final de la línea anterior.\n",
        "Si no indentamos la instrucción debajo del bucle for, obtendremos una excepción de tipo *IndentationError*."
      ]
    },
    {
      "cell_type": "code",
      "metadata": {
        "id": "RR79Xy53oS0k"
      },
      "source": [
        "for i in range(0,10):\n",
        "print(i)"
      ],
      "execution_count": null,
      "outputs": []
    },
    {
      "cell_type": "markdown",
      "metadata": {
        "id": "8rACxU0X7Rtk"
      },
      "source": [
        "Podemos usar un bucle for para iterar sobre los elementos de una lista, podrías pensar que la manera de hacerlo podría ser esta:"
      ]
    },
    {
      "cell_type": "code",
      "metadata": {
        "id": "ki-kVgMc1_Ib"
      },
      "source": [
        "shopping_list = [\"pan\", \"leche\", \"arroz\",\"yogurt\"]\n",
        "\n",
        "print(\"Mi lista de compras:\")\n",
        "\n",
        "for i in shopping_list:\n",
        "    print(\"--\", i)"
      ],
      "execution_count": null,
      "outputs": []
    },
    {
      "cell_type": "markdown",
      "metadata": {
        "id": "lQ8FuRga8eyo"
      },
      "source": [
        "Otro tipo de bucle utilizado por Python y muchos otros lenguajes de programación es el **ciclo while**. Para crear un ciclo while, debemos definir una **expresión booleana**, que nos permite realizar comparaciones entre los datos. Las expresiones booleanas disponibles en Python son:\n",
        "\n",
        "* **==**: devuelve True si las dos expresiones son iguales, de lo contrario devuelve False\n",
        "* **!=**: devuelve True si las dos expresiones son diferentes, de lo contrario devuelve False\n",
        "* **>**: devuelve True si la primera expresión es mayor que la segunda (solo números)\n",
        "* **>=**: devuelve True si la primera expresión es mayor o igual que la segunda (solo números)\n",
        "* **<**: devuelve True si la primera expresión es menor que la segunda (solo números)\n",
        "* **<=**: devuelve True si la primera expresión es menor o igual que la segunda (solo números)"
      ]
    },
    {
      "cell_type": "code",
      "metadata": {
        "id": "tTrQxLLPoS0m"
      },
      "source": [
        "print(1==1)\n",
        "print(3+2==6-1)\n",
        "print(1!=1)\n",
        "\n",
        "print(\"\\n\")\n",
        "\n",
        "print(5>6)\n",
        "print(5<5)\n",
        "print(5<=5)\n",
        "\n",
        "print(\"\\n\")\n",
        "\n",
        "print(\"gato\"==\"gatto\")\n",
        "print(\"gato\"==\"perro\")\n",
        "print(\"perro\"!=\"gato\")\n"
      ],
      "execution_count": null,
      "outputs": []
    },
    {
      "cell_type": "markdown",
      "metadata": {
        "id": "jQWJ1GP_oS0m"
      },
      "source": [
        "Ahora crearemos un bucle while que se ejecutará hasta que la variable i sea menor que el número que hemos ingresado."
      ]
    },
    {
      "cell_type": "code",
      "metadata": {
        "id": "uOHl8-Bz2VRl"
      },
      "source": [
        "n = int(input(\"¿Hasta qué número desea imprimir?\"))\n",
        "\n",
        "i = 0\n",
        "\n",
        "while i<n:\n",
        "    print(i)\n",
        "    i+=1"
      ],
      "execution_count": null,
      "outputs": []
    },
    {
      "cell_type": "markdown",
      "metadata": {
        "id": "nrGafmEt8T4c"
      },
      "source": [
        "<a id='loop'></a>\n",
        "## En breve\n",
        "\n",
        "En Python:\n",
        "\n",
        "- **Listas**: son colecciones ordenadas y modificables. Se definen con corchetes [ ] y pueden contener elementos de diferentes tipos.\n",
        "  \n",
        "- **Tuplas**: son colecciones ordenadas e inmutables. Se definen con paréntesis ( ) y pueden contener elementos de diferentes tipos.\n",
        "\n",
        "- **Diccionarios**: son colecciones desordenadas, modificables y indexadas. Se definen con llaves { } y contienen pares de clave-valor, donde cada clave es única."
      ]
    }
  ],
  "metadata": {
    "colab": {
      "provenance": [],
      "collapsed_sections": [
        "n5qfFCG7hhTO",
        "RBThy_aXsEz9",
        "QOIuYZk5hk3Z",
        "Uq7-3eSehqPl"
      ],
      "include_colab_link": true
    },
    "kernelspec": {
      "display_name": "Python 3",
      "name": "python3"
    }
  },
  "nbformat": 4,
  "nbformat_minor": 0
}