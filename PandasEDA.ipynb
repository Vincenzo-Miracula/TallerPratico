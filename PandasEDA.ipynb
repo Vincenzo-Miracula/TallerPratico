{
  "cells": [
    {
      "cell_type": "markdown",
      "metadata": {
        "id": "view-in-github",
        "colab_type": "text"
      },
      "source": [
        "<a href=\"https://colab.research.google.com/github/Vincenzo-Miracula/TallerPratico/blob/main/PandasEDA.ipynb\" target=\"_parent\"><img src=\"https://colab.research.google.com/assets/colab-badge.svg\" alt=\"Open In Colab\"/></a>"
      ]
    },
    {
      "cell_type": "markdown",
      "source": [
        "# [Pandas](https://pandas.pydata.org/docs/user_guide/index.html)\n",
        "![Pandas_python.png](data:image/png;base64,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)\n",
        "---\n",
        "### Creación de un DataFrame\n",
        "---\n",
        "* Pandas es una poderosa libreria de Python utilizada para la manipulación y análisis de datos.\n",
        "* Ofrece estructuras de datos flexibles como DataFrame, que permiten organizar y procesar datos tabulares de manera eficiente.\n",
        "* Pandas se utiliza ampliamente en el campo del análisis de datos, permitiendo operaciones como filtrado, agregación y transformación de datos de manera intuitiva.\n",
        "---"
      ],
      "metadata": {
        "id": "n5qfFCG7hhTO"
      }
    },
    {
      "cell_type": "markdown",
      "source": [
        "[Pandas CheatSheet](https://pandas.pydata.org/Pandas_Cheat_Sheet.pdf)"
      ],
      "metadata": {
        "id": "N95uxik5EigH"
      }
    },
    {
      "cell_type": "code",
      "source": [
        "import pandas as pd"
      ],
      "metadata": {
        "id": "sGJT6Vu2g55-"
      },
      "execution_count": 2,
      "outputs": []
    },
    {
      "cell_type": "code",
      "source": [
        "data={\"name\":[\"Bill\",\"Tom\",\"Tim\",\"John\",\"Alex\",\"Vanessa\",\"Kate\"],\n",
        "      \"score\":[90,80,85,75,95,60,65],\n",
        "      \"sport\":[\"Wrestling\",\"Football\",\"Skiing\",\"Swimming\",\"Tennis\",\n",
        "               \"Karete\",\"Surfing\"],\n",
        "      \"sex\":[\"M\",\"M\",\"M\",\"M\",\"F\",\"F\",\"F\"]}"
      ],
      "metadata": {
        "id": "J4bUNuEhQirZ"
      },
      "execution_count": 71,
      "outputs": []
    },
    {
      "cell_type": "code",
      "source": [
        "pd.read_csv()"
      ],
      "metadata": {
        "id": "ntLB0CJ0asZx"
      },
      "execution_count": null,
      "outputs": []
    },
    {
      "cell_type": "code",
      "source": [
        "df=pd.DataFrame(data)\n",
        "df"
      ],
      "metadata": {
        "id": "IarAf4IaRd7Z"
      },
      "execution_count": null,
      "outputs": []
    },
    {
      "cell_type": "code",
      "source": [
        "# cambiar orden de columnas\n",
        "df= df[[\"name\",\"sport\",\"sex\",\"score\"]]\n",
        "df"
      ],
      "metadata": {
        "id": "LvLg1t-xRlU2"
      },
      "execution_count": null,
      "outputs": []
    },
    {
      "cell_type": "code",
      "source": [
        "df.head()"
      ],
      "metadata": {
        "id": "T6TOMLz_SCuq"
      },
      "execution_count": null,
      "outputs": []
    },
    {
      "cell_type": "code",
      "source": [
        "df.tail()"
      ],
      "metadata": {
        "id": "pIk6ALRNSFQq"
      },
      "execution_count": null,
      "outputs": []
    },
    {
      "cell_type": "code",
      "source": [
        "df.sample(5)"
      ],
      "metadata": {
        "id": "7IkHwnUDaCbg"
      },
      "execution_count": null,
      "outputs": []
    },
    {
      "cell_type": "code",
      "source": [
        "df.info()"
      ],
      "metadata": {
        "id": "YgTKW08aS7xd"
      },
      "execution_count": null,
      "outputs": []
    },
    {
      "cell_type": "code",
      "source": [
        "df.columns"
      ],
      "metadata": {
        "id": "YSjYBNP_Sfi2"
      },
      "execution_count": null,
      "outputs": []
    },
    {
      "cell_type": "code",
      "source": [
        "df.shape"
      ],
      "metadata": {
        "id": "9cuGtnU_SGIu"
      },
      "execution_count": null,
      "outputs": []
    },
    {
      "cell_type": "code",
      "source": [
        "df.dtypes"
      ],
      "metadata": {
        "id": "U6U5p9uLSnDT"
      },
      "execution_count": null,
      "outputs": []
    },
    {
      "cell_type": "code",
      "source": [
        "# veamos los datos que faltan en las columnas.\n",
        "df.isnull().sum()"
      ],
      "metadata": {
        "id": "F4W99VNtSna8"
      },
      "execution_count": null,
      "outputs": []
    },
    {
      "cell_type": "code",
      "source": [
        "df.describe()"
      ],
      "metadata": {
        "id": "kXrNrOS3Syu_"
      },
      "execution_count": null,
      "outputs": []
    },
    {
      "cell_type": "code",
      "source": [
        "df.value_counts()"
      ],
      "metadata": {
        "id": "ZAA3aUAAS_NT"
      },
      "execution_count": null,
      "outputs": []
    },
    {
      "cell_type": "code",
      "source": [
        "df['']"
      ],
      "metadata": {
        "id": "YyrsXGBTaIdn"
      },
      "execution_count": null,
      "outputs": []
    },
    {
      "cell_type": "code",
      "source": [
        "df.drop_duplicates()"
      ],
      "metadata": {
        "id": "XQUb8FQealif"
      },
      "execution_count": null,
      "outputs": []
    },
    {
      "cell_type": "code",
      "source": [
        "df.dropna()"
      ],
      "metadata": {
        "id": "n1cyL46zTHsM"
      },
      "execution_count": null,
      "outputs": []
    },
    {
      "cell_type": "code",
      "source": [
        "df.fillna(0,inplace=True)\n",
        "#df.fillna(value=df.mean())\n",
        "df"
      ],
      "metadata": {
        "id": "7Gh6z7VMTlaP"
      },
      "execution_count": null,
      "outputs": []
    },
    {
      "cell_type": "code",
      "source": [
        "df.fillna(method='ffill', inplace=True)\n",
        "#ffill = forward fill - relleno delantero\n",
        "#para ir a la inversa, también hay un método bfill (backward fill)"
      ],
      "metadata": {
        "id": "hZh7mzOnUBh_"
      },
      "execution_count": null,
      "outputs": []
    },
    {
      "cell_type": "code",
      "source": [
        "df.rename(columns={}, inplace=True)"
      ],
      "metadata": {
        "id": "o-6ArGjJUt7i"
      },
      "execution_count": null,
      "outputs": []
    },
    {
      "cell_type": "code",
      "source": [
        "grouped_df = df.groupby([''])"
      ],
      "metadata": {
        "id": "Gsy6VHEhVybT"
      },
      "execution_count": null,
      "outputs": []
    },
    {
      "cell_type": "code",
      "source": [],
      "metadata": {
        "id": "Kb-tqDLoWPdS"
      },
      "execution_count": null,
      "outputs": []
    },
    {
      "cell_type": "markdown",
      "source": [
        "# EDA dos líneas"
      ],
      "metadata": {
        "id": "MXLTnoRzRG4F"
      }
    },
    {
      "cell_type": "markdown",
      "source": [
        "### sweetviz"
      ],
      "metadata": {
        "id": "3k5hcZyfVDg1"
      }
    },
    {
      "cell_type": "code",
      "source": [
        "!pip install sweetviz"
      ],
      "metadata": {
        "id": "gK2lT0gpRUJy"
      },
      "execution_count": null,
      "outputs": []
    },
    {
      "cell_type": "code",
      "source": [
        "mport sweetviz"
      ],
      "metadata": {
        "id": "LOQmwRxsVCt4"
      },
      "execution_count": null,
      "outputs": []
    },
    {
      "cell_type": "code",
      "source": [
        "report_analyze = sweetviz.analyze([df,])"
      ],
      "metadata": {
        "id": "IP-CXjsjVIPp"
      },
      "execution_count": null,
      "outputs": []
    },
    {
      "cell_type": "code",
      "source": [
        "report_analyze.show_html(\"Report.html\")"
      ],
      "metadata": {
        "id": "3i5gtLWeVaFR"
      },
      "execution_count": null,
      "outputs": []
    },
    {
      "cell_type": "markdown",
      "source": [
        "### ydata-profiling"
      ],
      "metadata": {
        "id": "XF2xv-BjVFYL"
      }
    },
    {
      "cell_type": "code",
      "source": [
        "!pip install ydata-profiling"
      ],
      "metadata": {
        "id": "NGL-M_gSVap4"
      },
      "execution_count": null,
      "outputs": []
    },
    {
      "cell_type": "code",
      "source": [
        "from ydata_profiling import ProfileReport"
      ],
      "metadata": {
        "id": "67kvqbDvVcN8"
      },
      "execution_count": null,
      "outputs": []
    },
    {
      "cell_type": "code",
      "source": [
        "profile = ProfileReport(df, title=\"Profiling Report\")"
      ],
      "metadata": {
        "id": "AO73RwI1Vdqy"
      },
      "execution_count": null,
      "outputs": []
    },
    {
      "cell_type": "code",
      "source": [
        "profile.to_file(\"your_report.html\")"
      ],
      "metadata": {
        "id": "Qa0uT0BnVhm5"
      },
      "execution_count": null,
      "outputs": []
    },
    {
      "cell_type": "markdown",
      "source": [
        "# funciones"
      ],
      "metadata": {
        "id": "fwT14qH0RT1z"
      }
    },
    {
      "cell_type": "code",
      "source": [
        "def limpiar(texto):\n",
        "    # Eliminar todas las etiquetas HTML y su contenido del texto\n",
        "    texto = re.sub(r'<[^>]+>', '', texto)\n",
        "    # Eliminar emojis del texto\n",
        "    patron_emoji = re.compile(\"[\"\n",
        "                               u\"\\U0001F600-\\U0001F64F\"\n",
        "                               u\"\\U0001F300-\\U0001F5FF\"\n",
        "                               u\"\\U0001F680-\\U0001F6FF\"\n",
        "                               u\"\\U0001F1E0-\\U0001F1FF\"\n",
        "                               u\"\\U00002500-\\U00002BEF\"\n",
        "                               u\"\\U00002702-\\U000027B0\"\n",
        "                               u\"\\U00002702-\\U000027B0\"\n",
        "                               u\"\\U000024C2-\\U0001F251\"\n",
        "                               u\"\\U0001f926-\\U0001f937\"\n",
        "                               u\"\\U00010000-\\U0010ffff\"\n",
        "                               u\"\\u2640-\\u2642\"\n",
        "                               u\"\\u2600-\\u2B55\"\n",
        "                               u\"\\u200d\"\n",
        "                               u\"\\u23cf\"\n",
        "                               u\"\\u23e9\"\n",
        "                               u\"\\u231a\"\n",
        "                               u\"\\ufe0f\"\n",
        "                               u\"\\u3030\"\n",
        "                               \"]+\", flags=re.UNICODE)\n",
        "    texto = patron_emoji.sub(r'', texto)\n",
        "    # Eliminar todos los enlaces que comienzan con \"http\" o \"www\"\n",
        "    texto = re.sub(r'(https?://\\S+|www\\.\\S+)', '', texto)\n",
        "    # Eliminar las menciones de usuarios\n",
        "    texto = re.sub(r'@\\w+\\s*', '', texto)\n",
        "    # Reemplazar todos los caracteres que no son letras, espacios o comillas simples con un espacio en blanco\n",
        "    texto = re.sub(r'[^A-Za-zÀ-ÿ\\s\\']+', ' ', texto)\n",
        "    # Eliminar la secuencia \">\"\n",
        "    texto = texto.replace(\"&gt;\", '')\n",
        "    # Eliminar la sigla \"RT\"\n",
        "    texto = re.sub(r'RT', '', texto)\n",
        "    # Eliminar los caracteres de nueva línea\n",
        "    texto = texto.replace(\"\\n\", '')\n",
        "    # Eliminar los hashtags del texto\n",
        "    texto = re.sub(r'#[^\\s]+', '', texto)\n",
        "    # Eliminar todos los caracteres que no son palabras\n",
        "    texto = re.sub(r'[^\\w\\sàèéìòù]+', '', texto)\n",
        "    # Eliminar espacios múltiples\n",
        "    texto = re.sub(r'\\s+', ' ', texto).strip()\n",
        "    # Eliminar caracteres especiales específicos del texto\n",
        "    texto = ''.join(caracter for caracter in texto if caracter not in '#$&?\\*+-/;<=>@[\\\\]^_`{|}~')\n",
        "    return texto"
      ],
      "metadata": {
        "id": "glGDNX5gQikQ"
      },
      "execution_count": null,
      "outputs": []
    },
    {
      "cell_type": "code",
      "source": [
        "df[''].apply(limpiar)"
      ],
      "metadata": {
        "id": "fLCh9L6FbQ0Q"
      },
      "execution_count": null,
      "outputs": []
    }
  ],
  "metadata": {
    "colab": {
      "name": "Un benvenuto a Colaboratory",
      "toc_visible": true,
      "provenance": [],
      "include_colab_link": true
    },
    "kernelspec": {
      "display_name": "Python 3",
      "name": "python3"
    }
  },
  "nbformat": 4,
  "nbformat_minor": 0
}