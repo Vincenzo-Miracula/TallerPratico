{
  "nbformat": 4,
  "nbformat_minor": 0,
  "metadata": {
    "colab": {
      "provenance": [],
      "authorship_tag": "ABX9TyOR7J+8iytPun25p7lJzDSd",
      "include_colab_link": true
    },
    "kernelspec": {
      "name": "python3",
      "display_name": "Python 3"
    },
    "language_info": {
      "name": "python"
    }
  },
  "cells": [
    {
      "cell_type": "markdown",
      "metadata": {
        "id": "view-in-github",
        "colab_type": "text"
      },
      "source": [
        "<a href=\"https://colab.research.google.com/github/Vincenzo-Miracula/TallerPratico/blob/main/EscuelaGobierno.ipynb\" target=\"_parent\"><img src=\"https://colab.research.google.com/assets/colab-badge.svg\" alt=\"Open In Colab\"/></a>"
      ]
    },
    {
      "cell_type": "code",
      "source": [
        "!pip install transformers"
      ],
      "metadata": {
        "id": "2g_hWshyknpe"
      },
      "execution_count": null,
      "outputs": []
    },
    {
      "cell_type": "code",
      "execution_count": null,
      "metadata": {
        "id": "TdNeuNbnkhOG"
      },
      "outputs": [],
      "source": [
        "import pandas as pd\n",
        "from transformers import pipeline\n",
        "from tqdm import tqdm\n",
        "tqdm.pandas()\n",
        "import re"
      ]
    },
    {
      "cell_type": "code",
      "source": [
        "df = pd.read_excel('')"
      ],
      "metadata": {
        "id": "8vFRY7pjkwQu"
      },
      "execution_count": null,
      "outputs": []
    },
    {
      "cell_type": "code",
      "source": [
        "df"
      ],
      "metadata": {
        "id": "GpC-a-kxkwOI"
      },
      "execution_count": null,
      "outputs": []
    },
    {
      "cell_type": "code",
      "source": [],
      "metadata": {
        "id": "UQ71UwOHlTtk"
      },
      "execution_count": null,
      "outputs": []
    },
    {
      "cell_type": "code",
      "source": [],
      "metadata": {
        "id": "LCd3QkWClTrP"
      },
      "execution_count": null,
      "outputs": []
    },
    {
      "cell_type": "code",
      "source": [
        "def clean(text):\n",
        "  emoji_pattern = re.compile(\"[\"\n",
        "                           u\"\\U0001F600-\\U0001F64F\"  # emoticon\n",
        "                           u\"\\U0001F300-\\U0001F5FF\"  # simboli & pittogrammi\n",
        "                           u\"\\U0001F680-\\U0001F6FF\"  # trasporti & simboli mappe\n",
        "                           u\"\\U0001F1E0-\\U0001F1FF\"  # bandiere (emoji)\n",
        "                           u\"\\U00002500-\\U00002BEF\"  # caratteri cinesi comuni\n",
        "                           u\"\\U00002702-\\U000027B0\"\n",
        "                           u\"\\U00002702-\\U000027B0\"\n",
        "                           u\"\\U000024C2-\\U0001F251\"\n",
        "                           u\"\\U0001f926-\\U0001f937\"\n",
        "                           u\"\\U00010000-\\U0010ffff\"\n",
        "                           u\"\\u2640-\\u2642\"\n",
        "                           u\"\\u2600-\\u2B55\"\n",
        "                           u\"\\u200d\"\n",
        "                           u\"\\u23cf\"\n",
        "                           u\"\\u23e9\"\n",
        "                           u\"\\u231a\"\n",
        "                           u\"\\ufe0f\"  # combinazione di caratteri\n",
        "                           u\"\\u3030\"\n",
        "                           \"]+\", flags=re.UNICODE)\n",
        "  text = emoji_pattern.sub(r'', text)\n",
        "  text = re.sub(r'http\\S+|www\\S+|https\\S+', '', text)\n",
        "  text = re.sub(r'\\w+#\\w+', '', text)\n",
        "  text = re.sub(r'@\\w+\\s*', '', text)\n",
        "  text = re.sub(r'RT @\\w+:', '', text)\n",
        "\n",
        "  text = text.lower()\n",
        "  return text.strip()"
      ],
      "metadata": {
        "id": "-8dvcBDwknnB"
      },
      "execution_count": null,
      "outputs": []
    },
    {
      "cell_type": "code",
      "source": [
        "df['pulito'] = df['Open-Ended Response'].progress_apply(clean)"
      ],
      "metadata": {
        "id": "PNJhXe2okqS4"
      },
      "execution_count": null,
      "outputs": []
    },
    {
      "cell_type": "code",
      "source": [],
      "metadata": {
        "id": "2h_fSJMykw6T"
      },
      "execution_count": null,
      "outputs": []
    },
    {
      "cell_type": "code",
      "source": [
        "classifier = pipeline(\"zero-shot-classification\", model=\"MoritzLaurer/mDeBERTa-v3-base-mnli-xnli\")\n",
        "candidate_labels = [\"Positive\", \"Neutral\", \"Negative\", \"AlmostPositive\", \"AlmostNegative\"]"
      ],
      "metadata": {
        "id": "OdnQ8D4Dkw39"
      },
      "execution_count": null,
      "outputs": []
    },
    {
      "cell_type": "code",
      "source": [
        "text = 'Hola a todo el mundo'\n",
        "classifier(text, candidate_labels, multi_label=False)"
      ],
      "metadata": {
        "id": "NYVih98Skz2a"
      },
      "execution_count": null,
      "outputs": []
    },
    {
      "cell_type": "code",
      "source": [
        "def sentiment(text):\n",
        "  result = classifier(text, candidate_labels, multi_label=False)\n",
        "  return result['labels'][0]"
      ],
      "metadata": {
        "id": "uwMIKLUMkzzi"
      },
      "execution_count": null,
      "outputs": []
    },
    {
      "cell_type": "code",
      "source": [
        "df['SentimentText'] = df['es_text_pulito'].progress_apply(sentiment)"
      ],
      "metadata": {
        "id": "r2RRZUpck3uJ"
      },
      "execution_count": null,
      "outputs": []
    },
    {
      "cell_type": "code",
      "source": [],
      "metadata": {
        "id": "erPSba_nk50Q"
      },
      "execution_count": null,
      "outputs": []
    }
  ]
}