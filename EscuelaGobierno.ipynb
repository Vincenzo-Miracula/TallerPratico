{
  "nbformat": 4,
  "nbformat_minor": 0,
  "metadata": {
    "colab": {
      "provenance": [],
      "authorship_tag": "ABX9TyNVobysN1efde3Ubb6r9dBF",
      "include_colab_link": true
    },
    "kernelspec": {
      "name": "python3",
      "display_name": "Python 3"
    },
    "language_info": {
      "name": "python"
    }
  },
  "cells": [
    {
      "cell_type": "markdown",
      "metadata": {
        "id": "view-in-github",
        "colab_type": "text"
      },
      "source": [
        "<a href=\"https://colab.research.google.com/github/Vincenzo-Miracula/TallerPratico/blob/main/EscuelaGobierno.ipynb\" target=\"_parent\"><img src=\"https://colab.research.google.com/assets/colab-badge.svg\" alt=\"Open In Colab\"/></a>"
      ]
    },
    {
      "cell_type": "markdown",
      "source": [
        "# librerie"
      ],
      "metadata": {
        "id": "il4dINfqY9f-"
      }
    },
    {
      "cell_type": "code",
      "source": [
        "!pip install transformers"
      ],
      "metadata": {
        "id": "2g_hWshyknpe"
      },
      "execution_count": null,
      "outputs": []
    },
    {
      "cell_type": "code",
      "execution_count": 15,
      "metadata": {
        "id": "TdNeuNbnkhOG"
      },
      "outputs": [],
      "source": [
        "import pandas as pd\n",
        "from transformers import pipeline\n",
        "from tqdm import tqdm\n",
        "tqdm.pandas()\n",
        "import re\n",
        "from transformers import BertForSequenceClassification, BertTokenizer"
      ]
    },
    {
      "cell_type": "markdown",
      "source": [
        "# Dataframe y análisis de datos"
      ],
      "metadata": {
        "id": "nIV0pUSMY9A7"
      }
    },
    {
      "cell_type": "code",
      "source": [
        "df = pd.read_excel('https://github.com/Vincenzo-Miracula/TallerPratico/raw/main/MadridEdG.xlsx')"
      ],
      "metadata": {
        "id": "8vFRY7pjkwQu"
      },
      "execution_count": 16,
      "outputs": []
    },
    {
      "cell_type": "code",
      "source": [
        "df.rename(columns={'¿Considera que el proyecto ha contribuido a generar un cambio positivo en el contexto de referencia desde la conclusión de las actividades hasta hoy?':'texto1',\n",
        "                   '¿Cómo sigue colaborando el sujeto responsable con las organizaciones asociadas al partenariado del proyecto?': 'texto2',\n",
        "                   '¿Cuáles han sido, si los hay, los cambios significativos1': 'texto3'}, inplace=True)"
      ],
      "metadata": {
        "id": "GpC-a-kxkwOI"
      },
      "execution_count": null,
      "outputs": []
    },
    {
      "cell_type": "code",
      "source": [
        "df"
      ],
      "metadata": {
        "id": "l2F2-rz3zKle"
      },
      "execution_count": null,
      "outputs": []
    },
    {
      "cell_type": "markdown",
      "source": [
        "# sentiment-emotion"
      ],
      "metadata": {
        "id": "oftmlhriY8VL"
      }
    },
    {
      "cell_type": "code",
      "source": [
        "def clean(text):\n",
        "\n",
        "    text = re.sub(r'<[^>]+>', '', text)\n",
        "    emoji_pattern = re.compile(\"[\"\n",
        "                           u\"\\U0001F600-\\U0001F64F\"  # emoticon\n",
        "                           u\"\\U0001F300-\\U0001F5FF\"\n",
        "                           u\"\\U0001F680-\\U0001F6FF\"\n",
        "                           u\"\\U0001F1E0-\\U0001F1FF\"\n",
        "                           u\"\\U00002500-\\U00002BEF\"\n",
        "                           u\"\\U00002702-\\U000027B0\"\n",
        "                           u\"\\U00002702-\\U000027B0\"\n",
        "                           u\"\\U000024C2-\\U0001F251\"\n",
        "                           u\"\\U0001f926-\\U0001f937\"\n",
        "                           u\"\\U00010000-\\U0010ffff\"\n",
        "                           u\"\\u2640-\\u2642\"\n",
        "                           u\"\\u2600-\\u2B55\"\n",
        "                           u\"\\u200d\"\n",
        "                           u\"\\u23cf\"\n",
        "                           u\"\\u23e9\"\n",
        "                           u\"\\u231a\"\n",
        "                           u\"\\ufe0f\"\n",
        "                           u\"\\u3030\"\n",
        "                           \"]+\", flags=re.UNICODE)\n",
        "    text = emoji_pattern.sub(r'', text)\n",
        "    text = re.sub(r'http\\S+', '', text)\n",
        "    text = re.sub(r'www\\.\\S+|https?://\\S+', '', text)\n",
        "    text = re.sub(r'@\\w+\\s*', '', text)\n",
        "    text = re.sub(r'[^A-Za-zÀ-ÿ\\s\\']+', ' ', text)\n",
        "    text = text.replace(\"&gt;\", '')\n",
        "    text = re.sub(r'RT', '', text)\n",
        "    text = text.replace(\"\\n\", '')\n",
        "    text = re.sub(r'#[^\\s]+', '', text)\n",
        "    text = re.sub(r'[^\\w\\sàèéìòù]+', '', text)\n",
        "    text = re.sub(r'\\s+', ' ', text).strip()\n",
        "    text= text.lower()\n",
        "    text = ''.join(char for char in text if char not in '#$&?\\*+-/;<=>@[\\\\]^_`{|}~')\n",
        "\n",
        "    return text"
      ],
      "metadata": {
        "id": "DJa1GAjqz6J5"
      },
      "execution_count": null,
      "outputs": []
    },
    {
      "cell_type": "code",
      "source": [
        "df['texto1Limpio'] = df['texto1'].progress_apply(clean)"
      ],
      "metadata": {
        "id": "PNJhXe2okqS4"
      },
      "execution_count": null,
      "outputs": []
    },
    {
      "cell_type": "code",
      "source": [
        "df['texto1Limpio']"
      ],
      "metadata": {
        "id": "2h_fSJMykw6T"
      },
      "execution_count": null,
      "outputs": []
    },
    {
      "cell_type": "markdown",
      "source": [
        "## primero modelo"
      ],
      "metadata": {
        "id": "h_WKQThZ8xzk"
      }
    },
    {
      "cell_type": "code",
      "source": [
        "classifier = pipeline(\"zero-shot-classification\", model=\"MoritzLaurer/mDeBERTa-v3-base-mnli-xnli\")\n",
        "candidate_labels = [\"Positive\", \"Neutral\", \"Negative\"]"
      ],
      "metadata": {
        "id": "OdnQ8D4Dkw39"
      },
      "execution_count": null,
      "outputs": []
    },
    {
      "cell_type": "code",
      "source": [
        "def sentiment_model1(text):\n",
        "  result = classifier(text, candidate_labels, multi)\n",
        "  return result['labels'][0]"
      ],
      "metadata": {
        "id": "uwMIKLUMkzzi"
      },
      "execution_count": null,
      "outputs": []
    },
    {
      "cell_type": "code",
      "source": [
        "sentiment_model1('')"
      ],
      "metadata": {
        "id": "--L7o-1T-EJF"
      },
      "execution_count": null,
      "outputs": []
    },
    {
      "cell_type": "code",
      "source": [
        "df['SentimentText1'] = df['texto1Limpio'].progress_apply(sentiment)"
      ],
      "metadata": {
        "id": "TBUJFViC8-Lk"
      },
      "execution_count": null,
      "outputs": []
    },
    {
      "cell_type": "markdown",
      "source": [
        "## segundo modelo"
      ],
      "metadata": {
        "id": "n3AR0yI78xuV"
      }
    },
    {
      "cell_type": "code",
      "source": [
        "model = BertForSequenceClassification.from_pretrained(\"VerificadoProfesional/SaBERT-Spanish-Sentiment-Analysis\")\n",
        "tokenizer = BertTokenizer.from_pretrained(\"VerificadoProfesional/SaBERT-Spanish-Sentiment-Analysis\")\n",
        "sentiment_task = pipeline(\"sentiment-analysis\", model=model, tokenizer=tokenizer)"
      ],
      "metadata": {
        "id": "QLzY8U496M_D"
      },
      "execution_count": null,
      "outputs": []
    },
    {
      "cell_type": "code",
      "source": [
        "def sentiment_model2(text):\n",
        "    #reducir el texto\n",
        "    truncated_text = text[:512]\n",
        "    result = sentiment_task(truncated_text)\n",
        "    return result[0]['label']"
      ],
      "metadata": {
        "id": "XPCQUvVs71SK"
      },
      "execution_count": null,
      "outputs": []
    },
    {
      "cell_type": "code",
      "source": [
        "df['SentimentText1'] = df['texto1Limpio'].progress_apply(sentiment_model2)"
      ],
      "metadata": {
        "id": "r2RRZUpck3uJ"
      },
      "execution_count": null,
      "outputs": []
    },
    {
      "cell_type": "code",
      "source": [
        "df['SentimentText1'].value_counts()"
      ],
      "metadata": {
        "id": "FILJ0xju8J7b"
      },
      "execution_count": null,
      "outputs": []
    },
    {
      "cell_type": "markdown",
      "source": [
        "# scraping"
      ],
      "metadata": {
        "id": "GVIUFyLAY5-X"
      }
    },
    {
      "cell_type": "code",
      "source": [
        "#Esta línea importa la clase BeautifulSoup de la biblioteca bs4 y le asigna un alias 'bs'\n",
        "from bs4 import BeautifulSoup as bs\n",
        "#Esta línea importa la biblioteca requests, que se utiliza para realizar solicitudes HTTP a páginas web\n",
        "import requests\n",
        "# Importar la biblioteca 'time' para manejar el tiempo en el script.\n",
        "import time"
      ],
      "metadata": {
        "id": "jpT57-RrZK0Z"
      },
      "execution_count": null,
      "outputs": []
    },
    {
      "cell_type": "code",
      "source": [
        "# Se establece un encabezado HTTP para simular un navegador web (User-Agent) en la solicitud.\n",
        "headers = {\"User-Agent\": \"Mozilla/5.0 (Windows NT 10.0; Win64; x64) AppleWebKit/537.36 (KHTML, like Gecko) Chrome/91.0.4472.124 Safari/537.36\"}\n",
        "# Se hace una solicitud GET a la URL proporcionada con el encabezado especificado.\n",
        "url = requests.get('https://www.plenainclusion.org/noticias/', headers=headers)\n",
        "# Se utiliza BeautifulSoup para analizar el contenido de la respuesta XML.\n",
        "soup = bs(url.content, \"html.parser\")\n",
        "badges = soup.find_all('div', {'class': 'elementor-post__badge'})\n",
        "titulos = soup.find_all(\"div\", {'class':\"elementor-post__text\"})\n",
        "textos = soup.find_all(\"div\", {'class':\"elementor-post__excerpt\"})"
      ],
      "metadata": {
        "id": "zGEfJCRFZNca"
      },
      "execution_count": null,
      "outputs": []
    },
    {
      "cell_type": "code",
      "source": [
        "data = []\n",
        "for badge, titulo, texto in zip(badges, titulos, textos):\n",
        "  badge = badge.text.strip()\n",
        "  titulo = titulo.text.strip()\n",
        "  texto = texto.text.strip()\n",
        "  data.append([badge, titulo, texto])"
      ],
      "metadata": {
        "id": "-X7sPwjuZWfJ"
      },
      "execution_count": null,
      "outputs": []
    },
    {
      "cell_type": "code",
      "source": [
        "data #pd.DataFrame(data, columns=['Tag', 'Titulo', 'Texto'])"
      ],
      "metadata": {
        "id": "jSssKO9vZX8Z"
      },
      "execution_count": null,
      "outputs": []
    },
    {
      "cell_type": "code",
      "source": [
        "url = \"https://www.plenainclusion.org/noticias/?sf_paged={}\"\n",
        "headers = {\"User-Agent\": \"Mozilla/5.0 (Windows NT 10.0; Win64; x64) AppleWebKit/537.36 (KHTML, like Gecko) Chrome/91.0.4472.124 Safari/537.36\"}\n",
        "start_page=1\n",
        "end_page=15\n",
        "\n",
        "data = []\n",
        "\n",
        "for page_num in tqdm(range(start_page, end_page + 1)):\n",
        "  url_pagina = url.format(page_num)\n",
        "  response = requests.get(url_pagina, headers)\n",
        "  soup = bs(response.content, \"html.parser\")\n",
        "\n",
        "  badges = soup.find_all('div', {'class': 'elementor-post__badge'})\n",
        "  titulos = soup.find_all(\"div\", {'class':\"elementor-post__text\"})\n",
        "  textos = soup.find_all(\"div\", {'class':\"elementor-post__excerpt\"})\n",
        "  for badge, titulo, texto in zip(badges, titulos, textos):\n",
        "    badge = badge.text.strip()\n",
        "    titulo = titulo.text.strip()\n",
        "    texto = texto.text.strip()\n",
        "    data.append([badge, titulo, texto])"
      ],
      "metadata": {
        "id": "WsTbCplsZbhH"
      },
      "execution_count": null,
      "outputs": []
    },
    {
      "cell_type": "code",
      "source": [
        "data #pd.DataFrame(data, columns=['Tag', 'Titulo', 'Texto'])"
      ],
      "metadata": {
        "id": "-SgfKvYdZhpO"
      },
      "execution_count": null,
      "outputs": []
    }
  ]
}