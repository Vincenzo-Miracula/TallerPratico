{
  "nbformat": 4,
  "nbformat_minor": 0,
  "metadata": {
    "colab": {
      "provenance": [],
      "authorship_tag": "ABX9TyNSA9udytx5O4/UW8d+d9zX",
      "include_colab_link": true
    },
    "kernelspec": {
      "name": "python3",
      "display_name": "Python 3"
    },
    "language_info": {
      "name": "python"
    }
  },
  "cells": [
    {
      "cell_type": "markdown",
      "metadata": {
        "id": "view-in-github",
        "colab_type": "text"
      },
      "source": [
        "<a href=\"https://colab.research.google.com/github/Vincenzo-Miracula/TallerPratico/blob/main/EscuelaGobierno.ipynb\" target=\"_parent\"><img src=\"https://colab.research.google.com/assets/colab-badge.svg\" alt=\"Open In Colab\"/></a>"
      ]
    },
    {
      "cell_type": "markdown",
      "source": [
        "# librerie"
      ],
      "metadata": {
        "id": "il4dINfqY9f-"
      }
    },
    {
      "cell_type": "code",
      "source": [
        "!pip install transformers"
      ],
      "metadata": {
        "id": "2g_hWshyknpe"
      },
      "execution_count": null,
      "outputs": []
    },
    {
      "cell_type": "code",
      "execution_count": null,
      "metadata": {
        "id": "TdNeuNbnkhOG"
      },
      "outputs": [],
      "source": [
        "import pandas as pd\n",
        "from transformers import pipeline\n",
        "from tqdm import tqdm\n",
        "tqdm.pandas()\n",
        "import re"
      ]
    },
    {
      "cell_type": "markdown",
      "source": [
        "# dataframe e analisi dati"
      ],
      "metadata": {
        "id": "nIV0pUSMY9A7"
      }
    },
    {
      "cell_type": "code",
      "source": [
        "df = pd.read_excel('')"
      ],
      "metadata": {
        "id": "8vFRY7pjkwQu"
      },
      "execution_count": null,
      "outputs": []
    },
    {
      "cell_type": "code",
      "source": [
        "df"
      ],
      "metadata": {
        "id": "GpC-a-kxkwOI"
      },
      "execution_count": null,
      "outputs": []
    },
    {
      "cell_type": "markdown",
      "source": [
        "# sentiment-emotion"
      ],
      "metadata": {
        "id": "oftmlhriY8VL"
      }
    },
    {
      "cell_type": "code",
      "source": [
        "def clean(text):\n",
        "  emoji_pattern = re.compile(\"[\"\n",
        "                           u\"\\U0001F600-\\U0001F64F\"  # emoticon\n",
        "                           u\"\\U0001F300-\\U0001F5FF\"  # simboli & pittogrammi\n",
        "                           u\"\\U0001F680-\\U0001F6FF\"  # trasporti & simboli mappe\n",
        "                           u\"\\U0001F1E0-\\U0001F1FF\"  # bandiere (emoji)\n",
        "                           u\"\\U00002500-\\U00002BEF\"  # caratteri cinesi comuni\n",
        "                           u\"\\U00002702-\\U000027B0\"\n",
        "                           u\"\\U00002702-\\U000027B0\"\n",
        "                           u\"\\U000024C2-\\U0001F251\"\n",
        "                           u\"\\U0001f926-\\U0001f937\"\n",
        "                           u\"\\U00010000-\\U0010ffff\"\n",
        "                           u\"\\u2640-\\u2642\"\n",
        "                           u\"\\u2600-\\u2B55\"\n",
        "                           u\"\\u200d\"\n",
        "                           u\"\\u23cf\"\n",
        "                           u\"\\u23e9\"\n",
        "                           u\"\\u231a\"\n",
        "                           u\"\\ufe0f\"  # combinazione di caratteri\n",
        "                           u\"\\u3030\"\n",
        "                           \"]+\", flags=re.UNICODE)\n",
        "  text = emoji_pattern.sub(r'', text)\n",
        "  text = re.sub(r'http\\S+|www\\S+|https\\S+', '', text)\n",
        "  text = re.sub(r'\\w+#\\w+', '', text)\n",
        "  text = re.sub(r'@\\w+\\s*', '', text)\n",
        "  text = re.sub(r'RT @\\w+:', '', text)\n",
        "\n",
        "  text = text.lower()\n",
        "  return text.strip()"
      ],
      "metadata": {
        "id": "-8dvcBDwknnB"
      },
      "execution_count": null,
      "outputs": []
    },
    {
      "cell_type": "code",
      "source": [
        "df['pulito'] = df['Open-Ended Response'].progress_apply(clean)"
      ],
      "metadata": {
        "id": "PNJhXe2okqS4"
      },
      "execution_count": null,
      "outputs": []
    },
    {
      "cell_type": "code",
      "source": [],
      "metadata": {
        "id": "2h_fSJMykw6T"
      },
      "execution_count": null,
      "outputs": []
    },
    {
      "cell_type": "code",
      "source": [
        "classifier = pipeline(\"zero-shot-classification\", model=\"MoritzLaurer/mDeBERTa-v3-base-mnli-xnli\")\n",
        "candidate_labels = [\"Positive\", \"Neutral\", \"Negative\", \"AlmostPositive\", \"AlmostNegative\"]"
      ],
      "metadata": {
        "id": "OdnQ8D4Dkw39"
      },
      "execution_count": null,
      "outputs": []
    },
    {
      "cell_type": "code",
      "source": [
        "text = 'Hola a todo el mundo'\n",
        "classifier(text, candidate_labels, multi_label=False)"
      ],
      "metadata": {
        "id": "NYVih98Skz2a"
      },
      "execution_count": null,
      "outputs": []
    },
    {
      "cell_type": "code",
      "source": [
        "def sentiment(text):\n",
        "  result = classifier(text, candidate_labels, multi_label=False)\n",
        "  return result['labels'][0]"
      ],
      "metadata": {
        "id": "uwMIKLUMkzzi"
      },
      "execution_count": null,
      "outputs": []
    },
    {
      "cell_type": "code",
      "source": [
        "df['SentimentText'] = df['es_text_pulito'].progress_apply(sentiment)"
      ],
      "metadata": {
        "id": "r2RRZUpck3uJ"
      },
      "execution_count": null,
      "outputs": []
    },
    {
      "cell_type": "markdown",
      "source": [
        "# scraping"
      ],
      "metadata": {
        "id": "GVIUFyLAY5-X"
      }
    },
    {
      "cell_type": "code",
      "source": [
        "#Esta línea importa la clase BeautifulSoup de la biblioteca bs4 y le asigna un alias 'bs'\n",
        "from bs4 import BeautifulSoup as bs\n",
        "#Esta línea importa la biblioteca requests, que se utiliza para realizar solicitudes HTTP a páginas web\n",
        "import requests\n",
        "# Importar la biblioteca 'time' para manejar el tiempo en el script.\n",
        "import time"
      ],
      "metadata": {
        "id": "jpT57-RrZK0Z"
      },
      "execution_count": null,
      "outputs": []
    },
    {
      "cell_type": "code",
      "source": [
        "# Se establece un encabezado HTTP para simular un navegador web (User-Agent) en la solicitud.\n",
        "headers = {\"User-Agent\": \"Mozilla/5.0 (Windows NT 10.0; Win64; x64) AppleWebKit/537.36 (KHTML, like Gecko) Chrome/91.0.4472.124 Safari/537.36\"}\n",
        "# Se hace una solicitud GET a la URL proporcionada con el encabezado especificado.\n",
        "url = requests.get('https://www.plenainclusion.org/noticias/', headers=headers)\n",
        "# Se utiliza BeautifulSoup para analizar el contenido de la respuesta XML.\n",
        "soup = bs(url.content, \"html.parser\")\n",
        "badges = soup.find_all('div', {'class': 'elementor-post__badge'})\n",
        "titulos = soup.find_all(\"div\", {'class':\"elementor-post__text\"})\n",
        "textos = soup.find_all(\"div\", {'class':\"elementor-post__excerpt\"})"
      ],
      "metadata": {
        "id": "zGEfJCRFZNca"
      },
      "execution_count": null,
      "outputs": []
    },
    {
      "cell_type": "code",
      "source": [
        "data = []\n",
        "for badge, titulo, texto in zip(badges, titulos, textos):\n",
        "  badge = badge.text.strip()\n",
        "  titulo = titulo.text.strip()\n",
        "  texto = texto.text.strip()\n",
        "  data.append([badge, titulo, texto])"
      ],
      "metadata": {
        "id": "-X7sPwjuZWfJ"
      },
      "execution_count": null,
      "outputs": []
    },
    {
      "cell_type": "code",
      "source": [
        "data #pd.DataFrame(data, columns=['Tag', 'Titulo', 'Texto'])"
      ],
      "metadata": {
        "id": "jSssKO9vZX8Z"
      },
      "execution_count": null,
      "outputs": []
    },
    {
      "cell_type": "code",
      "source": [
        "url = \"https://www.plenainclusion.org/noticias/?sf_paged={}\"\n",
        "headers = {\"User-Agent\": \"Mozilla/5.0 (Windows NT 10.0; Win64; x64) AppleWebKit/537.36 (KHTML, like Gecko) Chrome/91.0.4472.124 Safari/537.36\"}\n",
        "start_page=1\n",
        "end_page=15\n",
        "\n",
        "data = []\n",
        "\n",
        "for page_num in tqdm(range(start_page, end_page + 1)):\n",
        "  url_pagina = url.format(page_num)\n",
        "  response = requests.get(url_pagina, headers)\n",
        "  soup = bs(response.content, \"html.parser\")\n",
        "\n",
        "  badges = soup.find_all('div', {'class': 'elementor-post__badge'})\n",
        "  titulos = soup.find_all(\"div\", {'class':\"elementor-post__text\"})\n",
        "  textos = soup.find_all(\"div\", {'class':\"elementor-post__excerpt\"})\n",
        "  for badge, titulo, texto in zip(badges, titulos, textos):\n",
        "    badge = badge.text.strip()\n",
        "    titulo = titulo.text.strip()\n",
        "    texto = texto.text.strip()\n",
        "    data.append([badge, titulo, texto])"
      ],
      "metadata": {
        "id": "WsTbCplsZbhH"
      },
      "execution_count": null,
      "outputs": []
    },
    {
      "cell_type": "code",
      "source": [
        "data #pd.DataFrame(data, columns=['Tag', 'Titulo', 'Texto'])"
      ],
      "metadata": {
        "id": "-SgfKvYdZhpO"
      },
      "execution_count": null,
      "outputs": []
    }
  ]
}