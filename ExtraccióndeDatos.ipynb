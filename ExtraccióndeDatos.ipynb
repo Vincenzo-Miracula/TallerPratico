{
  "cells": [
    {
      "cell_type": "markdown",
      "metadata": {
        "id": "view-in-github",
        "colab_type": "text"
      },
      "source": [
        "<a href=\"https://colab.research.google.com/github/Vincenzo-Miracula/TallerPratico/blob/main/Extracci%C3%B3ndeDatos.ipynb\" target=\"_parent\"><img src=\"https://colab.research.google.com/assets/colab-badge.svg\" alt=\"Open In Colab\"/></a>"
      ]
    },
    {
      "cell_type": "markdown",
      "source": [
        "# Web Scraping"
      ],
      "metadata": {
        "id": "AzYCXa_2bnij"
      }
    },
    {
      "cell_type": "markdown",
      "source": [
        "### [BeautifulSoup](https://www.crummy.com/software/BeautifulSoup/bs4/doc/)\n",
        "![cover.png](data:image/png;base64,iVBORw0KGgoAAAANSUhEUgAAASwAAACWCAYAAABkW7XSAAAAAXNSR0IArs4c6QAAAARnQU1BAACxjwv8YQUAAAAJcEhZcwAAFiUAABYlAUlSJPAAABcfSURBVHhe7d0JcBTXgQbgv+fWfXOJQ5wCzCEQYAjBnHE4zGEwzuEkzmGytakkW3vU1laO2t0klWzt1tZWpSq72WST3S3HG5xwGBNjDgMGcxgwN5hbQkInujWS5p7Z9163LhBCGkmG1vxfua3pnu6RmJ75+73Xr19rEQFERCZgMX4SET31GFhEZBoMLCIyDQYWEZkGA4uITIOBRUSmwcAiItNgYBGRaTCwiMg0GFhEZBoMLCIyDQYWEZkGA4uITIOBRUSmwcAiItNgYBGRaTCwiMg0GFhEZBoMLCIyDQYWEZkGA4uITIOBRUSmwcAiItNgYBGRaTCwiMg0GFhEZBoMLCIyDQYWEZkGA4uITIOBRUSmwcAiItNgYBGRaTCwiMg0GFhEZBoMLCIyDQYWEZkGA4uITIOBRUSmwcAiItNgYBGRaTCwiMg0GFhEZBoMLCIyDQYWEZkGA4uITEOLCMZjIuoH5YVVKC2oRMbwVIyeNBwFV0rQWOPG6MnZyMpOM9aiaDCwBkAoFBYf0CbUVNSjudGD5oYWBHwB8YwGu9OGxNR4JCTHI2NYKpIzEmGxaPqGZHpHd57B2UNXjTnAFe+Et8WnHmtiP6969Tnkzh6r5qn3GFj9JByOoPDKPVw/W4Di6+VtH9LHiUt0IWdqNqbMGYfRuSPUh5r6T21lAy4duyH2T9hYMnBCwTCufngLTicwa54Tl8/50eQOI2uoFTkT7Dh70guHy4Fcsa8lh9OOqfPGI10cuKhnGFj9oORWBQ5vO4Xqsjo1H3HYEcnMRDglCZGkRDHvAKwW8YR4UpS+NL8fmtsNS0MjLNU1QCCotsvKTsdzL84VwTVczVPfnXnvMo7tOmvMfTKmznRg2co4nDvlw4n3vVj3cgJGj7VhxxvNKCvR93Urq92Kl779WYwYN8RYQt1hYPWBfOtO7rmA0/suqcfhYUMQnDIJoZHZ4pNoNdZ6jGAQ1vIKWK/dhLWsApqmYf6qmXh25Uz1mPomLA4Q1w6eQVNFlbFk4Nyv9uF2oRsz8p14boVLlOqAhrow0jL0c1tvbW1GSVEQedPTEO+ytq0/fsZorNuyTK1D3WNg9cGx3edwZr8IK1EHCHx6PkKjRFD1gbWkFPajJ1UJbMGaWZgvQov6rvL8FbhLy425gVNe6cFHF2rbAutBrYG1YvEwxInAqqv349ipKgzPycLn/3qNsRZ1h4EVpZLbldj2870Ii7DyrVqBSEqy8UzfWOob4NhzANZQEF8QH+IhozKMZygaBVfu4eDvjyFsVLsHhobRI+ORmGDrFFjFhUEcF1XC1S/GIyXV0hZYTodFlZ79gbBq+1y4Nh/znp9uvBZ1h/2wonRyz3lVDQzMn9MprGwfX4fz7T1wHjgES63eptUb4dQUBObOUlWZ0/svG0spWi1uD1qa/PD6wgM4hdDiCRm/sV1JcRA190MoL+n8XCAoPjdBPayk+KSHS2PUNZawotDi9uJX338T4cQEeDeuFe+i3tYkq3SO995Xj6WIfH7T+rbneywchmvrDohaA/7sp5+D1dbD9jDqUvnZywNeJZRdUx6sEsoGd9nwvnxVHKbMcLSVsJYtGor4OCsqq7w4c74WIycOw+bvrjReibrDElYUWpo8eiN7emqnMNJq641HOq2pGVpA9r/qJYsFEfHafl9ATANZlRn85OFY9ouTDeADOQVlqUlU8XoiFIqo9f1+fX2rPINMPcISVhRk94XXf7YLoTGj4F+6yFgqcqaiEs59B/VviRBOS4Vv3epOodZTzgOH1VnDLT95GQnJccZS6i3ZB+vwHz9s3SUDLKJ+T1sJ64goYX3ow4o18Zg8zd5WwtI/Dpo66Ml+dy98fQkmzByjXoG6x2jvR+FhQ+F/biFC2SMQGj8W/hVLogor6j8ZI9IwdEwW0oamDPgUn9T5wJIz3o5ROTaMHNO5Sp+ckaQu2xk3fRTWfmMpw6oXWMKKwqNKWP2JJSzzuXWhCH/6zeHHdmvY8uPNSExNMJZSb7CE1QeyjcpacLfnU3GJsSXFglAIKCsJPVQdZQkhegysPrDU1MJx9ESPJ/upj4wtKRZcveDHjjeaUHg7ihMv1CUGVhRkW0X+smcwe2lPp6kckSEGBUN6WaqlmWWq/sLAioLs6CcvUl68safTPNjsNmNrIooWG90fJN6NypIaNQJDXWUDQsGHezD3lnyHr39UgHB8HLybNxhLu+fc+x4slfcxKS9HhN3DHUflVf7pQ1PUkDSZIzgo3NPgwUb3c6d9OHHYiyWfjcO0vPaOo6/9eDOS2OgeFQZWB2UF9/H+9tOoLK42lvQvLTEBLS+tN+a659yzH5b7PRthIHv8UCzZ9CyvO3zCHhVYC5e6kDfXia3/3YSa6hC2/OhlNYgj9R4Dy3DjXCH2/u8HkAO92TNTETdhFOxD0qD1dJiYHvCLGnhlylBjrnutgbVgvgcu58M9qEMhDbV1VhQV2+F2W1QpbN2W5RgzpW8jRlD0HhVYNruGtHQLqipDqjT8pb9bBw4dFB0GllBRVI03/20P5LWoaUvzkTRnqnhn+v8Ddb8xhLqWnlUxWwPri19yw6k9eht5WcjFKy5cvOSC3WnHK3+7DqlZ/TNyBPXOowJLER+ntCEpeOEbS5A5nFX4aMV8o7u8Yv7A74+r0RHSls1F0txnugyrkLsZVdsPwVfWXk2r3XsS7rPXjDmg+fJt1PzpAz1FhEBVHaq2HUSwrhHNvnCPw6ojqwOwOY2ZLljEHpw1w4sZ03zwewM49IcPjWfoafHpdfn42g834tXvb2BY9VHMB1bx9TJUl9bBMSwDSfmTjaUP85VUwXOrGJ4bRWo+Egii6cINNJ27rual5it31BRsaFbz3rvl8Ny+h8orxSiti/4iZkeSBkeCBks3tdOZ071ITAij6Eap+PfUGkvpaeCMd6hSL6uBfRfzgSXP3kkPVgM9/ggKqwO4VelXU0WDHjh1zSE1f+e+X837g5G2dVqMq+/v1ujbVbn1bbyBcPS9m40/yRYHuNI0xGdqiMvQ1GNLh54SVmsEUyb71FnOa8a/iWiwienAiojqYJEoYWk2K+ImjTaW6t0QyuqDKoxku5acQsbNJEJpqfq8KO5EUlMQzkhrW0eOziDHwAo5Xfp8crK6IUU4rffVAM3jUT/tdvFCD5C5KktbTlHy6mjUSH0kgHu3Bn44YKInIaYDq6XJC4+YbGnJsIhgaSVLSkGZOB2EM9Lh/cImNQqDIpLBu361Gp2hVWBePryb1omU0Ys+oZEjxDYvITy8Z2cGW8k76WjuJsQnROB0PhxYrTQRWtb2PxtJiSHxqyOoKatTYUw02MR0YDU1tKgxiewZKcYSnSfwiC/7g20QD85LPVmnG1pzi7ruUJqR51ON6t2x2NpfX66bkiLCNhDq8X0RicwkpgOrub5F/bQ4Hepnq4BxDVhvaA0NsJaUqWGSo5ruFsN+9gKcu96B1tiIocNDyMt/fOjIUlZHLpfejuY2/m1Eg0lM98O6fbEIu//rMBLzcpG+coGxVG+/cnsf7qzZFT1ozqsqXH8ZPzGApSs8cLoev2uCItP87vb1jnyQgIK7dmz6zkqMnhS7N2RtrGlCVVntJ1o1Lr1zH+cOX1U3TZWX4ty8FsDt6wHMWJiLMVNGGGv1D3kHaXmFg9UWW2WOmA6swqsleOuX7yFxxkSkr25viypvCKLR8/jAkiUi2+Wr6nFKahhZQ0JdNpL3iKjZxcVFMDE3gMysnvfXejCwDh9NwN0iOzb/xSqMnDDMWBpbLh+/iUN//FD1rRvM5Kil8q7R8TE0wGNMB9b9ezV44593I37qWGSuW2wsBarcIdQ2dx8a1sK7cBw5DpsNWLzMg9yp/t42V/WLgEdMHYYv2X8wEaVlNrz6/Y1IH9a5bS4WuOub8dt/2I6wZkFwwti2EyCDitjd8sSMpeI+Js8Zh1WvPmc8MfjFdGA1iQ/3r3/4RziGZ2LYqy8YS0V1QpSuZCnrkcRb5tq+C3LE0RWrRFhN1vtkPQk+UboKGU1dckdu25mM5mYrvv2vX+5ylIfB7valYuz+9SGERFj5P91ezR9sNK8Xrjd3IiUjEV//+03G0sEvpgMrFAzjP7+3FfKkYPZ3Pw/NOCUnuzQU3A88srOn1uiGa8fbSEyK4CvfaIy6ZFVdZcXdQjtmz/GqM3x+n4bzZ52YMs2P5GS9OnPlohPJKWGMztFHrSwtsantZubpKeWp1e/UIvnE9lu3pSAhJQGv/ehlfWGMaaxtxv/8aDtCYqcEZRcUW4d+H4NGRC9hVVYhN38cVn+VJayYseMX+1Xn0aGvrIJzVHt/qeqmEGrE1BX5YXH+aS9Gjg5i/Sb9MpxoHHg3ATev2/HyK27V/nXzukMsi8fc+V7MW+CFz6vhN79MUW1ach1p+5tJqCizYsu3GqCFIgi0tO8+OXLDoSMJyJ09Fqu/tsRYGnsuHr2OIztOq/sRDmayDWvjt56PqaFqYj6wZAPte1tPIGHaeGS80PkOOF5R9JKlLfkO+YIRNLToHUpbA2t0ThBrX+xdYEVEBga9UBddHzyYiEJRwtqw3o3MzCBu3XLiyNF4zMrzIj/fI0pMFrz+uxRkZITw4oZGtf2ut5NRJUpYX36lHjZL51134FAiSkptWPP1pZg0K8dYGpvuXivFzn8/oK5QaJkmrxF9Ag2MA8DqdiP+ynVkjUzHF//mBVhi7CasMd0PS8rNH6suTm35uBD+8s4D97nsGhKdFiS5LMhMtGJsll3NR0sGladelIo8ertTvCusqoI2LYyQH3A6wqp66bDr8xAlKHnWUY6HJeflFCe2UWciHyg8lJTaVWN7cnoiJsxsv8woVg3PyRLvrXhzxdHGP2KYmIYOikkGcNu/LwbvGB3zgeVw2bFo3RxEwmFU7TishoJ5FHkfiRGpNjisvT9ahwKAv0kETYdC0ZzZLdi8sQFJSXr6ZA8PYPOLDZiSq7dP2WwRvCTmly1uL8UtWdSMTaK0JZ9rVV1jxdFjerVAjjWvvqgxTu7X1CHJsDa3QPM/uZMi/c1WU6d+ysCKRTFfJZTkW7D/jeP4+NRtWFxOpCycibiJo2BNSuiyJuEurkL91j29qhJ66mUJqf/e6khEg7vJotqtLl1xIhjUMGfFdCxaP8dYg/b97pjap74lC9VNbwcD1zv7YamuxZe/tz4mx9ZiYBnk23Bq70Wc3n9JnT2UQaXOGmpdlFbEupFQsFeB9dtfJsPv733J7FHkXjPGCYTdYcPCdfmYtXiqvoAUGVYytIKTJyIwf66x1Lw0nx+urdvVncC/+ZPYPAvMuoNBDq42f1UevvK9DaKkMg1DRmbAIYLALqp/D042MfWWvPmOvBOwxWaHtR8mZ5wTw8cOUX/zqz/YyLDqgryjkLwfpLXoXnu6P05Xx+9oj+ldvpbxszuP+H0Weedw8VxODI/bzxJWN/R35uG3p7qsDr/7p13qmr+VL/TsIuNf/SIZzvj+7B+lPZGe9WbT2m0lnJ4GLRCAb+1KNa6Z3LnyVmrysX+5fpWD1tQE5+59CM6egWDuRLXMersA9o/Ow7f6M4gk62PlO94/JtZthm/N82IjsR/8fjjffhfBCeMQzJuu1rGUlYv1jqvXDg/V25vsZ87BKkJHDkukLpEQIeoS24WzMuBfOF+tY6mtg2PfQQQ+9WxbNdZ27SZsV+VQ3OJ3ib9Rv+yqd0MWDRYsYXVDBoIseXU1RUNWNeXlQD2dqkpqVV529fvFf9QDeUv0kqcMAnWBuse4KYQIC8v9atVFpZUc2kfz+dQlL63Udl6xzGjslkEnn7fU17ce0aA1NkEGmKVOLDPI9WWQye1byd8l/wZZtZPk81pDY+e/odGtnu94izdN/g3i9WVYZQxLRfb4IcYzsYeB9QmSgwX+37/s7tUkBxmk6I2dmv3o+zXK076dzqoYj7s6y9rxCPHgwUK9zgNa1+90ZGldpv9ofRB56AWFRxyRFqzJE091/VwsYGB9QsbkBDFmbM+nngwtQ48nv9yLN87Tv//yf61fdqsVwWemIDg1V58X5JDXoZzRCE4cbywRpeIxo9WytlFjxfbBaVMRnDypLdjCcjtRHQyNHaPmJTnarKzShbLbh/iRrxsSU8Slj64QcTpU1TM0Wa9+SuGsTH27cR06/hr9rWSb5YSZsd0hmG1YUZBtWK//7K1etWH11u6dCbhXZMeWn3xOnRWivjn45klcOnZDBY/vM0u7LkU9hSxV1XDuPQi7TVM929NFlTCWsYT1BMkTV3cL7Lh1w676UdHAkR1qZdXQUl4Jx8nTbe1PTzPZvuU4eBSa+KDIUmKsh5XEwHpC5Pdl3zvxeGdXPPbvicf2rQkMrQEk+6qtfW2punTJeqsAjhMitHra1eEJkI31zn0H1TAy+cufwfRPiSooMbD6oi8H6ZpqKwputw99IoeM6Tjf2psilhtY+5sMq5e+81kjtO7AeeAwtBb9dmpPEznstvPdA+pvk8Mry0vHSMfAioK8Tk1qbIj+7etqKGWHo31Zg3hteXGrzRF7g/ANpJTMJLz8l6tUx2BZPXS+vQfWO4VPRRVR3ovScexDvZ9XKIRFG+Zg+ecXiCeMFYiBFY2ktER163FZSpJTNOQY8LPnGkOFCmPHy7OD+iB95WU2NNRbkJWdDoezQ6mL+kVSagI+91erMXPRZFh8fjg+OAnnO/tgLSp+ItVE2ffLfv4SXNt3q46qsgT44p9/BnOWTzPWoFY8Sxglecbp4JsnMHxECOtfapJnyaNSL4IpENCQZdx4Ql5vuH1rImprLFj91cVqREkaOKV3KvH+9tOqo64k79wdmDNLdWX4JFhkw/q776m2Kjmk9XRRBfzUmlltpXjqjIEVpbA4Em/7+V71gR81JojnV7fA1ce+U01NFuzdHY/KCivGTRuFdd9c0dZtiAaO/Abc/bhEjVR693qpmpd3+m7t/9RrYqcFZuchPCQTlrIK2M9dFL+kveQWSUuDf+Gzaj3ZsC6rplOfnYCFa2cjMSV2Rg+NBgOrD2TP9Z3/cQCVxdXqtvJyaONJuQFRjevdW+rxaLh+1YGzp51qXPaRE4dhvQgrHmU/eReOXMPhbaf0mT4cLZrnzoJvzEi4bhci/sKVTm1koYR4NK5cBktTC1L2H0ZyWoK6kYTWVY956oSB1UdBfxBHdp7BlRM3ValLNqbnjAuqUldqWljdTMJqi7T1U5RNJEFRBZSN6nW1FtU5tKjQpkZykFWC2cumYcGqvJgcTfJpEBD789c/+AN83gAali9COK73nXYjIugiHW4vpq4Z7HBD14jDjoj4QCScvwxXQRGe2zAH+Wyv6hEGVj+Rvd/PHLiEO5eLEfC13yKsq4O0esM7vOtyiOaJM3Mw9/kZSM1MMpbSk3J89zk1Lpp33Bi0zHhGhEv/l3ysjW6kHD4Op92C1/5xs/oM0OMxsPqZPEKX3KpQjbg1FXVobvSgqb5FlcTk6Wm7OLomiSqAvFuvHDFy6OgMZI8fJkphLFE9LeQ+e/2nb8HTbJzF7UPVsEsdvnLPrpypGtmpZxhYRF2oKq3FyT0XUFNer8b772/OeKe6a/PsJVPZdtULDCwiMg3WQ4jINBhYRGQaDCwiMg0GFhGZBgOLiEyDgUVEpsHAIiLTYGARkWkwsIjINBhYRGQaDCwiMg0GFhGZBgOLiEyDgUVEpsHAIiLTYGARkWkwsIjINBhYRGQaDCwiMg0GFhGZBgOLiEyDgUVEpsHAIiLTYGARkWkwsIjINBhYRGQaDCwiMg0GFhGZBgOLiEyDgUVEpsHAIiLTYGARkWkwsIjINBhYRGQaDCwiMg0GFhGZBgOLiEyDgUVEpsHAIiLTYGARkWkwsIjINBhYRGQaDCwiMg0GFhGZBgOLiExDCwQCEeMxEdFTDPh/Ta0PnP6KyOEAAAAASUVORK5CYII=)\n",
        "---\n",
        "* BeautifulSoup 4 (bs4) es una libreria de Python utilizada para el web scraping y el análisis de páginas web HTML/XML.\n",
        "* Proporciona una forma sencilla de extraer datos específicos de páginas web, permitiendo a los desarrolladores navegar a través del marcado HTML, identificar elementos deseados y acceder a su contenido o atributos.\n",
        "* Es ampliamente utilizada para extraer información de sitios web.\n",
        "---\n",
        "\n",
        "\n"
      ],
      "metadata": {
        "id": "I_va-q_ehd7B"
      }
    },
    {
      "cell_type": "code",
      "source": [
        "from bs4 import BeautifulSoup as bs\n",
        "import requests"
      ],
      "metadata": {
        "id": "sGJT6Vu2g55-"
      },
      "execution_count": null,
      "outputs": []
    },
    {
      "cell_type": "code",
      "source": [
        "headers = {\"user-agent\": \"Mozilla/5.0 (X11; Linux x86_64) AppleWebKit/537.36 (KHTML, like Gecko) Chrome/103.0.5060.53 Safari/537.36\"}\n",
        "url = requests.get('', headers)\n",
        "soup = bs(url.content, 'html.parser')"
      ],
      "metadata": {
        "id": "sK3u3pVvg-Ml"
      },
      "execution_count": null,
      "outputs": []
    },
    {
      "cell_type": "code",
      "source": [],
      "metadata": {
        "id": "Lvysxjn2hB3k"
      },
      "execution_count": null,
      "outputs": []
    },
    {
      "cell_type": "markdown",
      "source": [
        "# API"
      ],
      "metadata": {
        "id": "N0a4q7w0by2v"
      }
    },
    {
      "cell_type": "markdown",
      "source": [
        "### Mastodon"
      ],
      "metadata": {
        "id": "AhlpyeRVbvfy"
      }
    },
    {
      "cell_type": "markdown",
      "source": [
        "### YouTube"
      ],
      "metadata": {
        "id": "RoDSrFo9b1dH"
      }
    }
  ],
  "metadata": {
    "colab": {
      "provenance": [],
      "collapsed_sections": [
        "n5qfFCG7hhTO",
        "RBThy_aXsEz9",
        "QOIuYZk5hk3Z",
        "Uq7-3eSehqPl"
      ],
      "toc_visible": true,
      "include_colab_link": true
    },
    "kernelspec": {
      "display_name": "Python 3",
      "name": "python3"
    }
  },
  "nbformat": 4,
  "nbformat_minor": 0
}