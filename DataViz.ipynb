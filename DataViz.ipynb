{
  "cells": [
    {
      "cell_type": "markdown",
      "metadata": {
        "id": "view-in-github",
        "colab_type": "text"
      },
      "source": [
        "<a href=\"https://colab.research.google.com/github/Vincenzo-Miracula/TallerPratico/blob/main/DataViz.ipynb\" target=\"_parent\"><img src=\"https://colab.research.google.com/assets/colab-badge.svg\" alt=\"Open In Colab\"/></a>"
      ]
    },
    {
      "cell_type": "markdown",
      "source": [
        "# Data Visualizzation"
      ],
      "metadata": {
        "id": "KrO2A2OyHPk8"
      }
    },
    {
      "cell_type": "markdown",
      "source": [
        "## [Matplotlib](https://matplotlib.org/)"
      ],
      "metadata": {
        "id": "Ew-q9vHYHMsF"
      }
    },
    {
      "cell_type": "code",
      "source": [
        "import matplotlib.pyplot as plt\n",
        "%matplotlib inline\n",
        "\n",
        "x = [10, 20, 30, 40, 50, 60]\n",
        "y = [13, 45, 23, 34, 96, 76]\n",
        "plt.title('Bar Graph')\n",
        "plt.bar(x, y, color='dodgerblue', width=5)\n",
        "plt.show()"
      ],
      "metadata": {
        "id": "GE4smIjZFhgp"
      },
      "execution_count": null,
      "outputs": []
    },
    {
      "cell_type": "code",
      "source": [
        "x = [35, 20, 30, 40, 50, 30]\n",
        "y = ['Apple', 'Bananna', 'Grapes', 'Orange', 'PineApple', 'Dragon Fruit']\n",
        "plt.title('Pie Chart')\n",
        "plt.pie(x, labels=y)\n",
        "plt.show()"
      ],
      "metadata": {
        "id": "CGUKx1PuFpMz"
      },
      "execution_count": null,
      "outputs": []
    },
    {
      "cell_type": "code",
      "source": [
        "fig, ax = plt.subplots(figsize=(8, 2))\n",
        "x = [10, 20, 30, 40, 50, 60]\n",
        "y = [13, 45, 23, 34, 96, 76]\n",
        "ax.plot(x, y)\n",
        "ax.set_xlabel('axis x')\n",
        "ax.set_ylabel('axis y')\n",
        "ax.set_title('linee chart')"
      ],
      "metadata": {
        "id": "_qtLEciKH1AA"
      },
      "execution_count": null,
      "outputs": []
    },
    {
      "cell_type": "code",
      "source": [
        "fig, ax = plt.subplots(figsize=(9, 3))\n",
        "ax.plot(x, y, '*', label=None, alpha=0.5)"
      ],
      "metadata": {
        "id": "C74vUQkZI4VI"
      },
      "execution_count": null,
      "outputs": []
    },
    {
      "cell_type": "markdown",
      "source": [
        "## [Seaborn](https://seaborn.pydata.org/index.html)"
      ],
      "metadata": {
        "id": "jxtqrFvBHJRw"
      }
    },
    {
      "cell_type": "code",
      "source": [
        "import seaborn as sns\n",
        "\n",
        "data = sns.load_dataset(\"iris\")\n",
        "sns.lineplot(x=\"sepal_length\", y=\"sepal_width\", data=data)"
      ],
      "metadata": {
        "id": "OWhNkZe3FrYm"
      },
      "execution_count": null,
      "outputs": []
    },
    {
      "cell_type": "code",
      "source": [
        "import numpy as np\n",
        "import pandas as pd\n",
        "\n",
        "data = np.random.multivariate_normal([0, 0], [[5, 2], [2, 2]], size=2000)\n",
        "data = pd.DataFrame(data, columns=['x', 'y'])\n",
        "\n",
        "for col in 'xy':\n",
        "    plt.hist(data[col], density=True, alpha=0.5)"
      ],
      "metadata": {
        "id": "6rG6DCCOJl9U"
      },
      "execution_count": null,
      "outputs": []
    },
    {
      "cell_type": "code",
      "source": [
        "sns.kdeplot(data=data, fill=True);"
      ],
      "metadata": {
        "id": "RUjp0DJHJyhO"
      },
      "execution_count": null,
      "outputs": []
    },
    {
      "cell_type": "code",
      "source": [
        "sns.scatterplot(data=data)"
      ],
      "metadata": {
        "id": "K2cCcKCwG1_e"
      },
      "execution_count": null,
      "outputs": []
    },
    {
      "cell_type": "code",
      "source": [
        "iris = sns.load_dataset(\"iris\")\n",
        "sns.pairplot(iris, hue='species', height=2.5)"
      ],
      "metadata": {
        "id": "gk4mJk-RKDJL"
      },
      "execution_count": null,
      "outputs": []
    },
    {
      "cell_type": "markdown",
      "source": [
        "## [Plotly](https://plotly.com/python/)"
      ],
      "metadata": {
        "id": "bjMg9H_qHDiu"
      }
    },
    {
      "cell_type": "code",
      "source": [
        "import plotly.express as px\n",
        "\n",
        "df = px.data.iris()\n",
        "fig = px.box(df, x=\"sepal_width\", y=\"sepal_length\")\n",
        "fig.show()"
      ],
      "metadata": {
        "id": "EGG3YJIbG6oq"
      },
      "execution_count": null,
      "outputs": []
    },
    {
      "cell_type": "code",
      "source": [
        "df = px.data.tips()\n",
        "fig = px.histogram(df.total_bill)\n",
        "fig.show()"
      ],
      "metadata": {
        "id": "ZWL4HJn8G9mw"
      },
      "execution_count": null,
      "outputs": []
    }
  ],
  "metadata": {
    "colab": {
      "provenance": [],
      "collapsed_sections": [
        "n5qfFCG7hhTO",
        "RBThy_aXsEz9",
        "QOIuYZk5hk3Z",
        "Uq7-3eSehqPl"
      ],
      "toc_visible": true,
      "include_colab_link": true
    },
    "kernelspec": {
      "display_name": "Python 3",
      "name": "python3"
    }
  },
  "nbformat": 4,
  "nbformat_minor": 0
}